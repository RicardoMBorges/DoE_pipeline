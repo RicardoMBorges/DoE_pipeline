{
 "cells": [
  {
   "cell_type": "markdown",
   "id": "e769695e",
   "metadata": {},
   "source": [
    "## Workflow for Design of Experiment: Screening of Factors + Factorial Design\n",
    "\n",
    "#### Concept:\n",
    "* Full-factorial design is a systematic method used in experiments where all possible combinations of factors and their levels are considered. Here, you have 3 factors, each with 2 levels (often -1 and +1, representing low and high levels respectively). The number of experiments in a full-factorial design is calculated as LFLF, where LL is the number of levels and FF is the number of factors. For 3 factors with 2 levels each, there will be 23=823=8 experiments."
   ]
  },
  {
   "cell_type": "code",
   "execution_count": 5,
   "id": "6ca11532",
   "metadata": {},
   "outputs": [],
   "source": [
    "# Import Dependencies\n",
    "import numpy as np\n",
    "import pandas as pd\n",
    "from pyDOE2 import *\n",
    "import matplotlib.pyplot as plt\n",
    "import plotly.graph_objs as go\n",
    "from IPython.display import display, HTML\n",
    "import plotly.graph_objs as go"
   ]
  },
  {
   "cell_type": "markdown",
   "id": "32b58f00",
   "metadata": {},
   "source": [
    "### Screeing - 2 levels \n",
    "\n",
    "#### Create the Design matrix for 3 Factors and 2 Levels\n",
    "\n",
    "* for 3 Factors and 2 Levels, the number of experiments will be 8 (L^F or 2^3 experiments)\n",
    "\n",
    "\n",
    "    * ff2n(3): This function is used to generate the design matrix for a full-factorial experiment. It's likely part of a statistical or experimental design library. The argument 3 signifies that there are three factors.\n",
    "\n",
    "    * pd.DataFrame(design): Converts the design matrix into a Pandas DataFrame for easier manipulation and visualization."
   ]
  },
  {
   "cell_type": "code",
   "execution_count": 45,
   "id": "4752b285",
   "metadata": {},
   "outputs": [],
   "source": [
    "#Creating the Design Matrix\n",
    "design = ff2n(3) #fullfact([2,2,2])\n",
    "design_table = pd.DataFrame(design)\n",
    "#design_table"
   ]
  },
  {
   "cell_type": "code",
   "execution_count": 28,
   "id": "487d3ff0",
   "metadata": {},
   "outputs": [
    {
     "data": {
      "application/vnd.plotly.v1+json": {
       "config": {
        "plotlyServerURL": "https://plot.ly"
       },
       "data": [
        {
         "marker": {
          "opacity": 0.8,
          "size": 5
         },
         "mode": "markers",
         "text": [
          "Factor1: -1.0, Factor2: -1.0, Factor3: -1.0",
          "Factor1: 1.0, Factor2: -1.0, Factor3: -1.0",
          "Factor1: -1.0, Factor2: 1.0, Factor3: -1.0",
          "Factor1: 1.0, Factor2: 1.0, Factor3: -1.0",
          "Factor1: -1.0, Factor2: -1.0, Factor3: 1.0",
          "Factor1: 1.0, Factor2: -1.0, Factor3: 1.0",
          "Factor1: -1.0, Factor2: 1.0, Factor3: 1.0",
          "Factor1: 1.0, Factor2: 1.0, Factor3: 1.0"
         ],
         "type": "scatter3d",
         "x": [
          -1,
          1,
          -1,
          1,
          -1,
          1,
          -1,
          1
         ],
         "y": [
          -1,
          -1,
          1,
          1,
          -1,
          -1,
          1,
          1
         ],
         "z": [
          -1,
          -1,
          -1,
          -1,
          1,
          1,
          1,
          1
         ]
        }
       ],
       "layout": {
        "scene": {
         "xaxis": {
          "title": {
           "text": "Factor1"
          }
         },
         "yaxis": {
          "title": {
           "text": "Factor2"
          }
         },
         "zaxis": {
          "title": {
           "text": "Factor3"
          }
         }
        },
        "template": {
         "data": {
          "bar": [
           {
            "error_x": {
             "color": "#2a3f5f"
            },
            "error_y": {
             "color": "#2a3f5f"
            },
            "marker": {
             "line": {
              "color": "#E5ECF6",
              "width": 0.5
             },
             "pattern": {
              "fillmode": "overlay",
              "size": 10,
              "solidity": 0.2
             }
            },
            "type": "bar"
           }
          ],
          "barpolar": [
           {
            "marker": {
             "line": {
              "color": "#E5ECF6",
              "width": 0.5
             },
             "pattern": {
              "fillmode": "overlay",
              "size": 10,
              "solidity": 0.2
             }
            },
            "type": "barpolar"
           }
          ],
          "carpet": [
           {
            "aaxis": {
             "endlinecolor": "#2a3f5f",
             "gridcolor": "white",
             "linecolor": "white",
             "minorgridcolor": "white",
             "startlinecolor": "#2a3f5f"
            },
            "baxis": {
             "endlinecolor": "#2a3f5f",
             "gridcolor": "white",
             "linecolor": "white",
             "minorgridcolor": "white",
             "startlinecolor": "#2a3f5f"
            },
            "type": "carpet"
           }
          ],
          "choropleth": [
           {
            "colorbar": {
             "outlinewidth": 0,
             "ticks": ""
            },
            "type": "choropleth"
           }
          ],
          "contour": [
           {
            "colorbar": {
             "outlinewidth": 0,
             "ticks": ""
            },
            "colorscale": [
             [
              0,
              "#0d0887"
             ],
             [
              0.1111111111111111,
              "#46039f"
             ],
             [
              0.2222222222222222,
              "#7201a8"
             ],
             [
              0.3333333333333333,
              "#9c179e"
             ],
             [
              0.4444444444444444,
              "#bd3786"
             ],
             [
              0.5555555555555556,
              "#d8576b"
             ],
             [
              0.6666666666666666,
              "#ed7953"
             ],
             [
              0.7777777777777778,
              "#fb9f3a"
             ],
             [
              0.8888888888888888,
              "#fdca26"
             ],
             [
              1,
              "#f0f921"
             ]
            ],
            "type": "contour"
           }
          ],
          "contourcarpet": [
           {
            "colorbar": {
             "outlinewidth": 0,
             "ticks": ""
            },
            "type": "contourcarpet"
           }
          ],
          "heatmap": [
           {
            "colorbar": {
             "outlinewidth": 0,
             "ticks": ""
            },
            "colorscale": [
             [
              0,
              "#0d0887"
             ],
             [
              0.1111111111111111,
              "#46039f"
             ],
             [
              0.2222222222222222,
              "#7201a8"
             ],
             [
              0.3333333333333333,
              "#9c179e"
             ],
             [
              0.4444444444444444,
              "#bd3786"
             ],
             [
              0.5555555555555556,
              "#d8576b"
             ],
             [
              0.6666666666666666,
              "#ed7953"
             ],
             [
              0.7777777777777778,
              "#fb9f3a"
             ],
             [
              0.8888888888888888,
              "#fdca26"
             ],
             [
              1,
              "#f0f921"
             ]
            ],
            "type": "heatmap"
           }
          ],
          "heatmapgl": [
           {
            "colorbar": {
             "outlinewidth": 0,
             "ticks": ""
            },
            "colorscale": [
             [
              0,
              "#0d0887"
             ],
             [
              0.1111111111111111,
              "#46039f"
             ],
             [
              0.2222222222222222,
              "#7201a8"
             ],
             [
              0.3333333333333333,
              "#9c179e"
             ],
             [
              0.4444444444444444,
              "#bd3786"
             ],
             [
              0.5555555555555556,
              "#d8576b"
             ],
             [
              0.6666666666666666,
              "#ed7953"
             ],
             [
              0.7777777777777778,
              "#fb9f3a"
             ],
             [
              0.8888888888888888,
              "#fdca26"
             ],
             [
              1,
              "#f0f921"
             ]
            ],
            "type": "heatmapgl"
           }
          ],
          "histogram": [
           {
            "marker": {
             "pattern": {
              "fillmode": "overlay",
              "size": 10,
              "solidity": 0.2
             }
            },
            "type": "histogram"
           }
          ],
          "histogram2d": [
           {
            "colorbar": {
             "outlinewidth": 0,
             "ticks": ""
            },
            "colorscale": [
             [
              0,
              "#0d0887"
             ],
             [
              0.1111111111111111,
              "#46039f"
             ],
             [
              0.2222222222222222,
              "#7201a8"
             ],
             [
              0.3333333333333333,
              "#9c179e"
             ],
             [
              0.4444444444444444,
              "#bd3786"
             ],
             [
              0.5555555555555556,
              "#d8576b"
             ],
             [
              0.6666666666666666,
              "#ed7953"
             ],
             [
              0.7777777777777778,
              "#fb9f3a"
             ],
             [
              0.8888888888888888,
              "#fdca26"
             ],
             [
              1,
              "#f0f921"
             ]
            ],
            "type": "histogram2d"
           }
          ],
          "histogram2dcontour": [
           {
            "colorbar": {
             "outlinewidth": 0,
             "ticks": ""
            },
            "colorscale": [
             [
              0,
              "#0d0887"
             ],
             [
              0.1111111111111111,
              "#46039f"
             ],
             [
              0.2222222222222222,
              "#7201a8"
             ],
             [
              0.3333333333333333,
              "#9c179e"
             ],
             [
              0.4444444444444444,
              "#bd3786"
             ],
             [
              0.5555555555555556,
              "#d8576b"
             ],
             [
              0.6666666666666666,
              "#ed7953"
             ],
             [
              0.7777777777777778,
              "#fb9f3a"
             ],
             [
              0.8888888888888888,
              "#fdca26"
             ],
             [
              1,
              "#f0f921"
             ]
            ],
            "type": "histogram2dcontour"
           }
          ],
          "mesh3d": [
           {
            "colorbar": {
             "outlinewidth": 0,
             "ticks": ""
            },
            "type": "mesh3d"
           }
          ],
          "parcoords": [
           {
            "line": {
             "colorbar": {
              "outlinewidth": 0,
              "ticks": ""
             }
            },
            "type": "parcoords"
           }
          ],
          "pie": [
           {
            "automargin": true,
            "type": "pie"
           }
          ],
          "scatter": [
           {
            "fillpattern": {
             "fillmode": "overlay",
             "size": 10,
             "solidity": 0.2
            },
            "type": "scatter"
           }
          ],
          "scatter3d": [
           {
            "line": {
             "colorbar": {
              "outlinewidth": 0,
              "ticks": ""
             }
            },
            "marker": {
             "colorbar": {
              "outlinewidth": 0,
              "ticks": ""
             }
            },
            "type": "scatter3d"
           }
          ],
          "scattercarpet": [
           {
            "marker": {
             "colorbar": {
              "outlinewidth": 0,
              "ticks": ""
             }
            },
            "type": "scattercarpet"
           }
          ],
          "scattergeo": [
           {
            "marker": {
             "colorbar": {
              "outlinewidth": 0,
              "ticks": ""
             }
            },
            "type": "scattergeo"
           }
          ],
          "scattergl": [
           {
            "marker": {
             "colorbar": {
              "outlinewidth": 0,
              "ticks": ""
             }
            },
            "type": "scattergl"
           }
          ],
          "scattermapbox": [
           {
            "marker": {
             "colorbar": {
              "outlinewidth": 0,
              "ticks": ""
             }
            },
            "type": "scattermapbox"
           }
          ],
          "scatterpolar": [
           {
            "marker": {
             "colorbar": {
              "outlinewidth": 0,
              "ticks": ""
             }
            },
            "type": "scatterpolar"
           }
          ],
          "scatterpolargl": [
           {
            "marker": {
             "colorbar": {
              "outlinewidth": 0,
              "ticks": ""
             }
            },
            "type": "scatterpolargl"
           }
          ],
          "scatterternary": [
           {
            "marker": {
             "colorbar": {
              "outlinewidth": 0,
              "ticks": ""
             }
            },
            "type": "scatterternary"
           }
          ],
          "surface": [
           {
            "colorbar": {
             "outlinewidth": 0,
             "ticks": ""
            },
            "colorscale": [
             [
              0,
              "#0d0887"
             ],
             [
              0.1111111111111111,
              "#46039f"
             ],
             [
              0.2222222222222222,
              "#7201a8"
             ],
             [
              0.3333333333333333,
              "#9c179e"
             ],
             [
              0.4444444444444444,
              "#bd3786"
             ],
             [
              0.5555555555555556,
              "#d8576b"
             ],
             [
              0.6666666666666666,
              "#ed7953"
             ],
             [
              0.7777777777777778,
              "#fb9f3a"
             ],
             [
              0.8888888888888888,
              "#fdca26"
             ],
             [
              1,
              "#f0f921"
             ]
            ],
            "type": "surface"
           }
          ],
          "table": [
           {
            "cells": {
             "fill": {
              "color": "#EBF0F8"
             },
             "line": {
              "color": "white"
             }
            },
            "header": {
             "fill": {
              "color": "#C8D4E3"
             },
             "line": {
              "color": "white"
             }
            },
            "type": "table"
           }
          ]
         },
         "layout": {
          "annotationdefaults": {
           "arrowcolor": "#2a3f5f",
           "arrowhead": 0,
           "arrowwidth": 1
          },
          "autotypenumbers": "strict",
          "coloraxis": {
           "colorbar": {
            "outlinewidth": 0,
            "ticks": ""
           }
          },
          "colorscale": {
           "diverging": [
            [
             0,
             "#8e0152"
            ],
            [
             0.1,
             "#c51b7d"
            ],
            [
             0.2,
             "#de77ae"
            ],
            [
             0.3,
             "#f1b6da"
            ],
            [
             0.4,
             "#fde0ef"
            ],
            [
             0.5,
             "#f7f7f7"
            ],
            [
             0.6,
             "#e6f5d0"
            ],
            [
             0.7,
             "#b8e186"
            ],
            [
             0.8,
             "#7fbc41"
            ],
            [
             0.9,
             "#4d9221"
            ],
            [
             1,
             "#276419"
            ]
           ],
           "sequential": [
            [
             0,
             "#0d0887"
            ],
            [
             0.1111111111111111,
             "#46039f"
            ],
            [
             0.2222222222222222,
             "#7201a8"
            ],
            [
             0.3333333333333333,
             "#9c179e"
            ],
            [
             0.4444444444444444,
             "#bd3786"
            ],
            [
             0.5555555555555556,
             "#d8576b"
            ],
            [
             0.6666666666666666,
             "#ed7953"
            ],
            [
             0.7777777777777778,
             "#fb9f3a"
            ],
            [
             0.8888888888888888,
             "#fdca26"
            ],
            [
             1,
             "#f0f921"
            ]
           ],
           "sequentialminus": [
            [
             0,
             "#0d0887"
            ],
            [
             0.1111111111111111,
             "#46039f"
            ],
            [
             0.2222222222222222,
             "#7201a8"
            ],
            [
             0.3333333333333333,
             "#9c179e"
            ],
            [
             0.4444444444444444,
             "#bd3786"
            ],
            [
             0.5555555555555556,
             "#d8576b"
            ],
            [
             0.6666666666666666,
             "#ed7953"
            ],
            [
             0.7777777777777778,
             "#fb9f3a"
            ],
            [
             0.8888888888888888,
             "#fdca26"
            ],
            [
             1,
             "#f0f921"
            ]
           ]
          },
          "colorway": [
           "#636efa",
           "#EF553B",
           "#00cc96",
           "#ab63fa",
           "#FFA15A",
           "#19d3f3",
           "#FF6692",
           "#B6E880",
           "#FF97FF",
           "#FECB52"
          ],
          "font": {
           "color": "#2a3f5f"
          },
          "geo": {
           "bgcolor": "white",
           "lakecolor": "white",
           "landcolor": "#E5ECF6",
           "showlakes": true,
           "showland": true,
           "subunitcolor": "white"
          },
          "hoverlabel": {
           "align": "left"
          },
          "hovermode": "closest",
          "mapbox": {
           "style": "light"
          },
          "paper_bgcolor": "white",
          "plot_bgcolor": "#E5ECF6",
          "polar": {
           "angularaxis": {
            "gridcolor": "white",
            "linecolor": "white",
            "ticks": ""
           },
           "bgcolor": "#E5ECF6",
           "radialaxis": {
            "gridcolor": "white",
            "linecolor": "white",
            "ticks": ""
           }
          },
          "scene": {
           "xaxis": {
            "backgroundcolor": "#E5ECF6",
            "gridcolor": "white",
            "gridwidth": 2,
            "linecolor": "white",
            "showbackground": true,
            "ticks": "",
            "zerolinecolor": "white"
           },
           "yaxis": {
            "backgroundcolor": "#E5ECF6",
            "gridcolor": "white",
            "gridwidth": 2,
            "linecolor": "white",
            "showbackground": true,
            "ticks": "",
            "zerolinecolor": "white"
           },
           "zaxis": {
            "backgroundcolor": "#E5ECF6",
            "gridcolor": "white",
            "gridwidth": 2,
            "linecolor": "white",
            "showbackground": true,
            "ticks": "",
            "zerolinecolor": "white"
           }
          },
          "shapedefaults": {
           "line": {
            "color": "#2a3f5f"
           }
          },
          "ternary": {
           "aaxis": {
            "gridcolor": "white",
            "linecolor": "white",
            "ticks": ""
           },
           "baxis": {
            "gridcolor": "white",
            "linecolor": "white",
            "ticks": ""
           },
           "bgcolor": "#E5ECF6",
           "caxis": {
            "gridcolor": "white",
            "linecolor": "white",
            "ticks": ""
           }
          },
          "title": {
           "x": 0.05
          },
          "xaxis": {
           "automargin": true,
           "gridcolor": "white",
           "linecolor": "white",
           "ticks": "",
           "title": {
            "standoff": 15
           },
           "zerolinecolor": "white",
           "zerolinewidth": 2
          },
          "yaxis": {
           "automargin": true,
           "gridcolor": "white",
           "linecolor": "white",
           "ticks": "",
           "title": {
            "standoff": 15
           },
           "zerolinecolor": "white",
           "zerolinewidth": 2
          }
         }
        },
        "title": {
         "text": "2-Level Full-Factorial Design Points"
        }
       }
      },
      "text/html": [
       "<div>                            <div id=\"50e24505-7acf-404a-8319-c785750f71de\" class=\"plotly-graph-div\" style=\"height:525px; width:100%;\"></div>            <script type=\"text/javascript\">                require([\"plotly\"], function(Plotly) {                    window.PLOTLYENV=window.PLOTLYENV || {};                                    if (document.getElementById(\"50e24505-7acf-404a-8319-c785750f71de\")) {                    Plotly.newPlot(                        \"50e24505-7acf-404a-8319-c785750f71de\",                        [{\"marker\":{\"opacity\":0.8,\"size\":5},\"mode\":\"markers\",\"text\":[\"Factor1: -1.0, Factor2: -1.0, Factor3: -1.0\",\"Factor1: 1.0, Factor2: -1.0, Factor3: -1.0\",\"Factor1: -1.0, Factor2: 1.0, Factor3: -1.0\",\"Factor1: 1.0, Factor2: 1.0, Factor3: -1.0\",\"Factor1: -1.0, Factor2: -1.0, Factor3: 1.0\",\"Factor1: 1.0, Factor2: -1.0, Factor3: 1.0\",\"Factor1: -1.0, Factor2: 1.0, Factor3: 1.0\",\"Factor1: 1.0, Factor2: 1.0, Factor3: 1.0\"],\"x\":[-1.0,1.0,-1.0,1.0,-1.0,1.0,-1.0,1.0],\"y\":[-1.0,-1.0,1.0,1.0,-1.0,-1.0,1.0,1.0],\"z\":[-1.0,-1.0,-1.0,-1.0,1.0,1.0,1.0,1.0],\"type\":\"scatter3d\"}],                        {\"template\":{\"data\":{\"histogram2dcontour\":[{\"type\":\"histogram2dcontour\",\"colorbar\":{\"outlinewidth\":0,\"ticks\":\"\"},\"colorscale\":[[0.0,\"#0d0887\"],[0.1111111111111111,\"#46039f\"],[0.2222222222222222,\"#7201a8\"],[0.3333333333333333,\"#9c179e\"],[0.4444444444444444,\"#bd3786\"],[0.5555555555555556,\"#d8576b\"],[0.6666666666666666,\"#ed7953\"],[0.7777777777777778,\"#fb9f3a\"],[0.8888888888888888,\"#fdca26\"],[1.0,\"#f0f921\"]]}],\"choropleth\":[{\"type\":\"choropleth\",\"colorbar\":{\"outlinewidth\":0,\"ticks\":\"\"}}],\"histogram2d\":[{\"type\":\"histogram2d\",\"colorbar\":{\"outlinewidth\":0,\"ticks\":\"\"},\"colorscale\":[[0.0,\"#0d0887\"],[0.1111111111111111,\"#46039f\"],[0.2222222222222222,\"#7201a8\"],[0.3333333333333333,\"#9c179e\"],[0.4444444444444444,\"#bd3786\"],[0.5555555555555556,\"#d8576b\"],[0.6666666666666666,\"#ed7953\"],[0.7777777777777778,\"#fb9f3a\"],[0.8888888888888888,\"#fdca26\"],[1.0,\"#f0f921\"]]}],\"heatmap\":[{\"type\":\"heatmap\",\"colorbar\":{\"outlinewidth\":0,\"ticks\":\"\"},\"colorscale\":[[0.0,\"#0d0887\"],[0.1111111111111111,\"#46039f\"],[0.2222222222222222,\"#7201a8\"],[0.3333333333333333,\"#9c179e\"],[0.4444444444444444,\"#bd3786\"],[0.5555555555555556,\"#d8576b\"],[0.6666666666666666,\"#ed7953\"],[0.7777777777777778,\"#fb9f3a\"],[0.8888888888888888,\"#fdca26\"],[1.0,\"#f0f921\"]]}],\"heatmapgl\":[{\"type\":\"heatmapgl\",\"colorbar\":{\"outlinewidth\":0,\"ticks\":\"\"},\"colorscale\":[[0.0,\"#0d0887\"],[0.1111111111111111,\"#46039f\"],[0.2222222222222222,\"#7201a8\"],[0.3333333333333333,\"#9c179e\"],[0.4444444444444444,\"#bd3786\"],[0.5555555555555556,\"#d8576b\"],[0.6666666666666666,\"#ed7953\"],[0.7777777777777778,\"#fb9f3a\"],[0.8888888888888888,\"#fdca26\"],[1.0,\"#f0f921\"]]}],\"contourcarpet\":[{\"type\":\"contourcarpet\",\"colorbar\":{\"outlinewidth\":0,\"ticks\":\"\"}}],\"contour\":[{\"type\":\"contour\",\"colorbar\":{\"outlinewidth\":0,\"ticks\":\"\"},\"colorscale\":[[0.0,\"#0d0887\"],[0.1111111111111111,\"#46039f\"],[0.2222222222222222,\"#7201a8\"],[0.3333333333333333,\"#9c179e\"],[0.4444444444444444,\"#bd3786\"],[0.5555555555555556,\"#d8576b\"],[0.6666666666666666,\"#ed7953\"],[0.7777777777777778,\"#fb9f3a\"],[0.8888888888888888,\"#fdca26\"],[1.0,\"#f0f921\"]]}],\"surface\":[{\"type\":\"surface\",\"colorbar\":{\"outlinewidth\":0,\"ticks\":\"\"},\"colorscale\":[[0.0,\"#0d0887\"],[0.1111111111111111,\"#46039f\"],[0.2222222222222222,\"#7201a8\"],[0.3333333333333333,\"#9c179e\"],[0.4444444444444444,\"#bd3786\"],[0.5555555555555556,\"#d8576b\"],[0.6666666666666666,\"#ed7953\"],[0.7777777777777778,\"#fb9f3a\"],[0.8888888888888888,\"#fdca26\"],[1.0,\"#f0f921\"]]}],\"mesh3d\":[{\"type\":\"mesh3d\",\"colorbar\":{\"outlinewidth\":0,\"ticks\":\"\"}}],\"scatter\":[{\"fillpattern\":{\"fillmode\":\"overlay\",\"size\":10,\"solidity\":0.2},\"type\":\"scatter\"}],\"parcoords\":[{\"type\":\"parcoords\",\"line\":{\"colorbar\":{\"outlinewidth\":0,\"ticks\":\"\"}}}],\"scatterpolargl\":[{\"type\":\"scatterpolargl\",\"marker\":{\"colorbar\":{\"outlinewidth\":0,\"ticks\":\"\"}}}],\"bar\":[{\"error_x\":{\"color\":\"#2a3f5f\"},\"error_y\":{\"color\":\"#2a3f5f\"},\"marker\":{\"line\":{\"color\":\"#E5ECF6\",\"width\":0.5},\"pattern\":{\"fillmode\":\"overlay\",\"size\":10,\"solidity\":0.2}},\"type\":\"bar\"}],\"scattergeo\":[{\"type\":\"scattergeo\",\"marker\":{\"colorbar\":{\"outlinewidth\":0,\"ticks\":\"\"}}}],\"scatterpolar\":[{\"type\":\"scatterpolar\",\"marker\":{\"colorbar\":{\"outlinewidth\":0,\"ticks\":\"\"}}}],\"histogram\":[{\"marker\":{\"pattern\":{\"fillmode\":\"overlay\",\"size\":10,\"solidity\":0.2}},\"type\":\"histogram\"}],\"scattergl\":[{\"type\":\"scattergl\",\"marker\":{\"colorbar\":{\"outlinewidth\":0,\"ticks\":\"\"}}}],\"scatter3d\":[{\"type\":\"scatter3d\",\"line\":{\"colorbar\":{\"outlinewidth\":0,\"ticks\":\"\"}},\"marker\":{\"colorbar\":{\"outlinewidth\":0,\"ticks\":\"\"}}}],\"scattermapbox\":[{\"type\":\"scattermapbox\",\"marker\":{\"colorbar\":{\"outlinewidth\":0,\"ticks\":\"\"}}}],\"scatterternary\":[{\"type\":\"scatterternary\",\"marker\":{\"colorbar\":{\"outlinewidth\":0,\"ticks\":\"\"}}}],\"scattercarpet\":[{\"type\":\"scattercarpet\",\"marker\":{\"colorbar\":{\"outlinewidth\":0,\"ticks\":\"\"}}}],\"carpet\":[{\"aaxis\":{\"endlinecolor\":\"#2a3f5f\",\"gridcolor\":\"white\",\"linecolor\":\"white\",\"minorgridcolor\":\"white\",\"startlinecolor\":\"#2a3f5f\"},\"baxis\":{\"endlinecolor\":\"#2a3f5f\",\"gridcolor\":\"white\",\"linecolor\":\"white\",\"minorgridcolor\":\"white\",\"startlinecolor\":\"#2a3f5f\"},\"type\":\"carpet\"}],\"table\":[{\"cells\":{\"fill\":{\"color\":\"#EBF0F8\"},\"line\":{\"color\":\"white\"}},\"header\":{\"fill\":{\"color\":\"#C8D4E3\"},\"line\":{\"color\":\"white\"}},\"type\":\"table\"}],\"barpolar\":[{\"marker\":{\"line\":{\"color\":\"#E5ECF6\",\"width\":0.5},\"pattern\":{\"fillmode\":\"overlay\",\"size\":10,\"solidity\":0.2}},\"type\":\"barpolar\"}],\"pie\":[{\"automargin\":true,\"type\":\"pie\"}]},\"layout\":{\"autotypenumbers\":\"strict\",\"colorway\":[\"#636efa\",\"#EF553B\",\"#00cc96\",\"#ab63fa\",\"#FFA15A\",\"#19d3f3\",\"#FF6692\",\"#B6E880\",\"#FF97FF\",\"#FECB52\"],\"font\":{\"color\":\"#2a3f5f\"},\"hovermode\":\"closest\",\"hoverlabel\":{\"align\":\"left\"},\"paper_bgcolor\":\"white\",\"plot_bgcolor\":\"#E5ECF6\",\"polar\":{\"bgcolor\":\"#E5ECF6\",\"angularaxis\":{\"gridcolor\":\"white\",\"linecolor\":\"white\",\"ticks\":\"\"},\"radialaxis\":{\"gridcolor\":\"white\",\"linecolor\":\"white\",\"ticks\":\"\"}},\"ternary\":{\"bgcolor\":\"#E5ECF6\",\"aaxis\":{\"gridcolor\":\"white\",\"linecolor\":\"white\",\"ticks\":\"\"},\"baxis\":{\"gridcolor\":\"white\",\"linecolor\":\"white\",\"ticks\":\"\"},\"caxis\":{\"gridcolor\":\"white\",\"linecolor\":\"white\",\"ticks\":\"\"}},\"coloraxis\":{\"colorbar\":{\"outlinewidth\":0,\"ticks\":\"\"}},\"colorscale\":{\"sequential\":[[0.0,\"#0d0887\"],[0.1111111111111111,\"#46039f\"],[0.2222222222222222,\"#7201a8\"],[0.3333333333333333,\"#9c179e\"],[0.4444444444444444,\"#bd3786\"],[0.5555555555555556,\"#d8576b\"],[0.6666666666666666,\"#ed7953\"],[0.7777777777777778,\"#fb9f3a\"],[0.8888888888888888,\"#fdca26\"],[1.0,\"#f0f921\"]],\"sequentialminus\":[[0.0,\"#0d0887\"],[0.1111111111111111,\"#46039f\"],[0.2222222222222222,\"#7201a8\"],[0.3333333333333333,\"#9c179e\"],[0.4444444444444444,\"#bd3786\"],[0.5555555555555556,\"#d8576b\"],[0.6666666666666666,\"#ed7953\"],[0.7777777777777778,\"#fb9f3a\"],[0.8888888888888888,\"#fdca26\"],[1.0,\"#f0f921\"]],\"diverging\":[[0,\"#8e0152\"],[0.1,\"#c51b7d\"],[0.2,\"#de77ae\"],[0.3,\"#f1b6da\"],[0.4,\"#fde0ef\"],[0.5,\"#f7f7f7\"],[0.6,\"#e6f5d0\"],[0.7,\"#b8e186\"],[0.8,\"#7fbc41\"],[0.9,\"#4d9221\"],[1,\"#276419\"]]},\"xaxis\":{\"gridcolor\":\"white\",\"linecolor\":\"white\",\"ticks\":\"\",\"title\":{\"standoff\":15},\"zerolinecolor\":\"white\",\"automargin\":true,\"zerolinewidth\":2},\"yaxis\":{\"gridcolor\":\"white\",\"linecolor\":\"white\",\"ticks\":\"\",\"title\":{\"standoff\":15},\"zerolinecolor\":\"white\",\"automargin\":true,\"zerolinewidth\":2},\"scene\":{\"xaxis\":{\"backgroundcolor\":\"#E5ECF6\",\"gridcolor\":\"white\",\"linecolor\":\"white\",\"showbackground\":true,\"ticks\":\"\",\"zerolinecolor\":\"white\",\"gridwidth\":2},\"yaxis\":{\"backgroundcolor\":\"#E5ECF6\",\"gridcolor\":\"white\",\"linecolor\":\"white\",\"showbackground\":true,\"ticks\":\"\",\"zerolinecolor\":\"white\",\"gridwidth\":2},\"zaxis\":{\"backgroundcolor\":\"#E5ECF6\",\"gridcolor\":\"white\",\"linecolor\":\"white\",\"showbackground\":true,\"ticks\":\"\",\"zerolinecolor\":\"white\",\"gridwidth\":2}},\"shapedefaults\":{\"line\":{\"color\":\"#2a3f5f\"}},\"annotationdefaults\":{\"arrowcolor\":\"#2a3f5f\",\"arrowhead\":0,\"arrowwidth\":1},\"geo\":{\"bgcolor\":\"white\",\"landcolor\":\"#E5ECF6\",\"subunitcolor\":\"white\",\"showland\":true,\"showlakes\":true,\"lakecolor\":\"white\"},\"title\":{\"x\":0.05},\"mapbox\":{\"style\":\"light\"}}},\"title\":{\"text\":\"2-Level Full-Factorial Design Points\"},\"scene\":{\"xaxis\":{\"title\":{\"text\":\"Factor1\"}},\"yaxis\":{\"title\":{\"text\":\"Factor2\"}},\"zaxis\":{\"title\":{\"text\":\"Factor3\"}}}},                        {\"responsive\": true}                    ).then(function(){\n",
       "                            \n",
       "var gd = document.getElementById('50e24505-7acf-404a-8319-c785750f71de');\n",
       "var x = new MutationObserver(function (mutations, observer) {{\n",
       "        var display = window.getComputedStyle(gd).display;\n",
       "        if (!display || display === 'none') {{\n",
       "            console.log([gd, 'removed!']);\n",
       "            Plotly.purge(gd);\n",
       "            observer.disconnect();\n",
       "        }}\n",
       "}});\n",
       "\n",
       "// Listen for the removal of the full notebook cells\n",
       "var notebookContainer = gd.closest('#notebook-container');\n",
       "if (notebookContainer) {{\n",
       "    x.observe(notebookContainer, {childList: true});\n",
       "}}\n",
       "\n",
       "// Listen for the clearing of the current output cell\n",
       "var outputEl = gd.closest('.output');\n",
       "if (outputEl) {{\n",
       "    x.observe(outputEl, {childList: true});\n",
       "}}\n",
       "\n",
       "                        })                };                });            </script>        </div>"
      ]
     },
     "metadata": {},
     "output_type": "display_data"
    },
    {
     "data": {
      "text/html": [
       "<div>\n",
       "<style scoped>\n",
       "    .dataframe tbody tr th:only-of-type {\n",
       "        vertical-align: middle;\n",
       "    }\n",
       "\n",
       "    .dataframe tbody tr th {\n",
       "        vertical-align: top;\n",
       "    }\n",
       "\n",
       "    .dataframe thead th {\n",
       "        text-align: right;\n",
       "    }\n",
       "</style>\n",
       "<table border=\"1\" class=\"dataframe\">\n",
       "  <thead>\n",
       "    <tr style=\"text-align: right;\">\n",
       "      <th></th>\n",
       "      <th>Factor_1</th>\n",
       "      <th>Factor_2</th>\n",
       "      <th>Factor_3</th>\n",
       "    </tr>\n",
       "  </thead>\n",
       "  <tbody>\n",
       "    <tr>\n",
       "      <th>0</th>\n",
       "      <td>-1.0</td>\n",
       "      <td>-1.0</td>\n",
       "      <td>-1.0</td>\n",
       "    </tr>\n",
       "    <tr>\n",
       "      <th>1</th>\n",
       "      <td>1.0</td>\n",
       "      <td>-1.0</td>\n",
       "      <td>-1.0</td>\n",
       "    </tr>\n",
       "    <tr>\n",
       "      <th>2</th>\n",
       "      <td>-1.0</td>\n",
       "      <td>1.0</td>\n",
       "      <td>-1.0</td>\n",
       "    </tr>\n",
       "    <tr>\n",
       "      <th>3</th>\n",
       "      <td>1.0</td>\n",
       "      <td>1.0</td>\n",
       "      <td>-1.0</td>\n",
       "    </tr>\n",
       "    <tr>\n",
       "      <th>4</th>\n",
       "      <td>-1.0</td>\n",
       "      <td>-1.0</td>\n",
       "      <td>1.0</td>\n",
       "    </tr>\n",
       "    <tr>\n",
       "      <th>5</th>\n",
       "      <td>1.0</td>\n",
       "      <td>-1.0</td>\n",
       "      <td>1.0</td>\n",
       "    </tr>\n",
       "    <tr>\n",
       "      <th>6</th>\n",
       "      <td>-1.0</td>\n",
       "      <td>1.0</td>\n",
       "      <td>1.0</td>\n",
       "    </tr>\n",
       "    <tr>\n",
       "      <th>7</th>\n",
       "      <td>1.0</td>\n",
       "      <td>1.0</td>\n",
       "      <td>1.0</td>\n",
       "    </tr>\n",
       "  </tbody>\n",
       "</table>\n",
       "</div>"
      ],
      "text/plain": [
       "   Factor_1  Factor_2  Factor_3\n",
       "0      -1.0      -1.0      -1.0\n",
       "1       1.0      -1.0      -1.0\n",
       "2      -1.0       1.0      -1.0\n",
       "3       1.0       1.0      -1.0\n",
       "4      -1.0      -1.0       1.0\n",
       "5       1.0      -1.0       1.0\n",
       "6      -1.0       1.0       1.0\n",
       "7       1.0       1.0       1.0"
      ]
     },
     "execution_count": 28,
     "metadata": {},
     "output_type": "execute_result"
    }
   ],
   "source": [
    "# Create a 3D scatter plot\n",
    "fig = go.Figure(data=[go.Scatter3d(\n",
    "    x=design_table[0], y=design_table[1], z=design_table[2], mode='markers',\n",
    "    marker=dict(size=5, opacity=0.8,),\n",
    "    text=[f'Factor1: {x}, Factor2: {y}, Factor3: {z}' for x, y, z in zip(design_table[0], design_table[1], design_table[2])]\n",
    ")])\n",
    "\n",
    "# Update layout\n",
    "fig.update_layout(\n",
    "    title='2-Level Full-Factorial Design Points',\n",
    "    scene = dict(\n",
    "        xaxis_title='Factor1',\n",
    "        yaxis_title='Factor2',\n",
    "        zaxis_title='Factor3')\n",
    ")\n",
    "\n",
    "fig.show()\n",
    "\n",
    "# Renames the columns of the design_table DataFrame for clarity, changing them from 0, 1, 2 to \"Factor_1\", \"Factor_2\", and \"Factor_3\".\n",
    "design_table.rename(columns={0:\"Factor_1\", 1:\"Factor_2\", 2:\"Factor_3\"}, inplace=True)\n",
    "design_table"
   ]
  },
  {
   "cell_type": "markdown",
   "id": "10d44a7a",
   "metadata": {},
   "source": [
    "### Add columns that represent interaction between Factors\n",
    "\n",
    "#### Interaction: \n",
    "* In the context of factorial experiments, an interaction between factors occurs when the effect of one factor on the response variable is different at different levels of another factor. In simpler terms, it's when the combined effect of two or more factors is not just their individual effects added together.\n",
    "\n",
    "    * These lines create new columns in the design_table DataFrame, each representing an interaction between different sets of factors.\n",
    "    * Factor_1_2: Represents the interaction between Factor 1 and Factor 2.\n",
    "    * Factor_1_3: Represents the interaction between Factor 1 and Factor 3.\n",
    "    * Factor_2_3: Represents the interaction between Factor 2 and Factor 3.\n",
    "    * Factor_1_2_3: Represents the three-way interaction between Factor 1, Factor 2, and Factor 3.\n",
    "    * The interaction is calculated by simply multiplying the values of the factors involved."
   ]
  },
  {
   "cell_type": "code",
   "execution_count": 29,
   "id": "fd559bc5",
   "metadata": {},
   "outputs": [
    {
     "data": {
      "text/html": [
       "<div>\n",
       "<style scoped>\n",
       "    .dataframe tbody tr th:only-of-type {\n",
       "        vertical-align: middle;\n",
       "    }\n",
       "\n",
       "    .dataframe tbody tr th {\n",
       "        vertical-align: top;\n",
       "    }\n",
       "\n",
       "    .dataframe thead th {\n",
       "        text-align: right;\n",
       "    }\n",
       "</style>\n",
       "<table border=\"1\" class=\"dataframe\">\n",
       "  <thead>\n",
       "    <tr style=\"text-align: right;\">\n",
       "      <th></th>\n",
       "      <th>Factor_1</th>\n",
       "      <th>Factor_2</th>\n",
       "      <th>Factor_3</th>\n",
       "      <th>Factor_1_2</th>\n",
       "      <th>Factor_1_3</th>\n",
       "      <th>Factor_2_3</th>\n",
       "      <th>Factor_1_2_3</th>\n",
       "    </tr>\n",
       "  </thead>\n",
       "  <tbody>\n",
       "    <tr>\n",
       "      <th>0</th>\n",
       "      <td>-1.0</td>\n",
       "      <td>-1.0</td>\n",
       "      <td>-1.0</td>\n",
       "      <td>1.0</td>\n",
       "      <td>1.0</td>\n",
       "      <td>1.0</td>\n",
       "      <td>-1.0</td>\n",
       "    </tr>\n",
       "    <tr>\n",
       "      <th>1</th>\n",
       "      <td>1.0</td>\n",
       "      <td>-1.0</td>\n",
       "      <td>-1.0</td>\n",
       "      <td>-1.0</td>\n",
       "      <td>-1.0</td>\n",
       "      <td>1.0</td>\n",
       "      <td>1.0</td>\n",
       "    </tr>\n",
       "    <tr>\n",
       "      <th>2</th>\n",
       "      <td>-1.0</td>\n",
       "      <td>1.0</td>\n",
       "      <td>-1.0</td>\n",
       "      <td>-1.0</td>\n",
       "      <td>1.0</td>\n",
       "      <td>-1.0</td>\n",
       "      <td>1.0</td>\n",
       "    </tr>\n",
       "    <tr>\n",
       "      <th>3</th>\n",
       "      <td>1.0</td>\n",
       "      <td>1.0</td>\n",
       "      <td>-1.0</td>\n",
       "      <td>1.0</td>\n",
       "      <td>-1.0</td>\n",
       "      <td>-1.0</td>\n",
       "      <td>-1.0</td>\n",
       "    </tr>\n",
       "    <tr>\n",
       "      <th>4</th>\n",
       "      <td>-1.0</td>\n",
       "      <td>-1.0</td>\n",
       "      <td>1.0</td>\n",
       "      <td>1.0</td>\n",
       "      <td>-1.0</td>\n",
       "      <td>-1.0</td>\n",
       "      <td>1.0</td>\n",
       "    </tr>\n",
       "    <tr>\n",
       "      <th>5</th>\n",
       "      <td>1.0</td>\n",
       "      <td>-1.0</td>\n",
       "      <td>1.0</td>\n",
       "      <td>-1.0</td>\n",
       "      <td>1.0</td>\n",
       "      <td>-1.0</td>\n",
       "      <td>-1.0</td>\n",
       "    </tr>\n",
       "    <tr>\n",
       "      <th>6</th>\n",
       "      <td>-1.0</td>\n",
       "      <td>1.0</td>\n",
       "      <td>1.0</td>\n",
       "      <td>-1.0</td>\n",
       "      <td>-1.0</td>\n",
       "      <td>1.0</td>\n",
       "      <td>-1.0</td>\n",
       "    </tr>\n",
       "    <tr>\n",
       "      <th>7</th>\n",
       "      <td>1.0</td>\n",
       "      <td>1.0</td>\n",
       "      <td>1.0</td>\n",
       "      <td>1.0</td>\n",
       "      <td>1.0</td>\n",
       "      <td>1.0</td>\n",
       "      <td>1.0</td>\n",
       "    </tr>\n",
       "  </tbody>\n",
       "</table>\n",
       "</div>"
      ],
      "text/plain": [
       "   Factor_1  Factor_2  Factor_3  Factor_1_2  Factor_1_3  Factor_2_3  \\\n",
       "0      -1.0      -1.0      -1.0         1.0         1.0         1.0   \n",
       "1       1.0      -1.0      -1.0        -1.0        -1.0         1.0   \n",
       "2      -1.0       1.0      -1.0        -1.0         1.0        -1.0   \n",
       "3       1.0       1.0      -1.0         1.0        -1.0        -1.0   \n",
       "4      -1.0      -1.0       1.0         1.0        -1.0        -1.0   \n",
       "5       1.0      -1.0       1.0        -1.0         1.0        -1.0   \n",
       "6      -1.0       1.0       1.0        -1.0        -1.0         1.0   \n",
       "7       1.0       1.0       1.0         1.0         1.0         1.0   \n",
       "\n",
       "   Factor_1_2_3  \n",
       "0          -1.0  \n",
       "1           1.0  \n",
       "2           1.0  \n",
       "3          -1.0  \n",
       "4           1.0  \n",
       "5          -1.0  \n",
       "6          -1.0  \n",
       "7           1.0  "
      ]
     },
     "execution_count": 29,
     "metadata": {},
     "output_type": "execute_result"
    }
   ],
   "source": [
    "# Create new columns by multiplying existing columns\n",
    "design_table['Factor_1_2'] = design_table['Factor_1'] * design_table['Factor_2']\n",
    "design_table['Factor_1_3'] = design_table['Factor_1'] * design_table['Factor_3']\n",
    "design_table['Factor_2_3'] = design_table['Factor_2'] * design_table['Factor_3']\n",
    "design_table['Factor_1_2_3'] = design_table['Factor_1'] * design_table['Factor_2']* design_table['Factor_3']\n",
    "\n",
    "design_table"
   ]
  },
  {
   "cell_type": "markdown",
   "id": "d06b6dd5",
   "metadata": {},
   "source": [
    "### Setting up your experimental table\n",
    "\n",
    "* Defining Factor Values\n",
    "\n",
    "* Create the Experimental table that will be used in the _wet-_ laboratory\n",
    "\n",
    "    * The DataFrame is saved as a CSV file named \"Experimental Table from DoE - screening 3F 2L.csv\". The sep=\";\" specifies that the separator used in the file is a semicolon. index=False ensures that the DataFrame index is not included in the CSV file."
   ]
  },
  {
   "cell_type": "code",
   "execution_count": 30,
   "id": "ec4b0b19",
   "metadata": {},
   "outputs": [
    {
     "name": "stdout",
     "output_type": "stream",
     "text": [
      "Your experimental table is ready as a CSV file for use.\n"
     ]
    }
   ],
   "source": [
    "# Defining Factor Values\n",
    "Factor_1 = [10, 20, 30]  # Values for Factor 1\n",
    "Factor_2 = [4.2, 7, 9.8]  # Values for Factor 2\n",
    "Factor_3 = [0.5, 1, 1.5]  # Values for Factor 3\n",
    "\n",
    "# Mapping for each factor\n",
    "mapping_factor_1 = {-1: min(Factor_1), 0: sum(Factor_1)/len(Factor_1), 1: max(Factor_1)}\n",
    "mapping_factor_2 = {-1: min(Factor_2), 0: sum(Factor_2)/len(Factor_2), 1: max(Factor_2)}\n",
    "mapping_factor_3 = {-1: min(Factor_3), 0: sum(Factor_3)/len(Factor_3), 1: max(Factor_3)}\n",
    "\n",
    "# Assuming 'design_table' is the DataFrame with -1, 0, and +1 (ex. box_behnken design)\n",
    "exp_table = design_table.copy()\n",
    "\n",
    "exp_table.iloc[:, 0] = exp_table.iloc[:, 0].map(mapping_factor_1)\n",
    "exp_table.iloc[:, 1] = exp_table.iloc[:, 1].map(mapping_factor_2)\n",
    "exp_table.iloc[:, 2] = exp_table.iloc[:, 2].map(mapping_factor_3)\n",
    "\n",
    "exp_table['Results'] = exp_table.apply(lambda _: '', axis=1)\n",
    "\n",
    "# Sort columns\n",
    "exp_table[\"Experiment#\"] = exp_table.index\n",
    "exp_table = exp_table[['Experiment#', 'Factor_1', 'Factor_2', 'Factor_3', 'Results']].iloc[:8]\n",
    "\n",
    "# Display the modified DataFrame\n",
    "#display(exp_table)\n",
    "\n",
    "exp_table.to_csv(\"Experimental Table from DoE - screening 3F 2L.csv\", sep=\";\", index=False)\n",
    "print(f\"Your experimental table is ready as a CSV file for use.\")"
   ]
  },
  {
   "cell_type": "markdown",
   "id": "bff835a8",
   "metadata": {},
   "source": [
    "### Add results from the experiments\n",
    "\n",
    "* This adds a new column Results to design_table, containing the results from the experiments."
   ]
  },
  {
   "cell_type": "code",
   "execution_count": 32,
   "id": "eaf3b947",
   "metadata": {},
   "outputs": [],
   "source": [
    "#results = pd.read_csv(\"results.csv\")\n",
    "\n",
    "B0 = np.ones(len(design_table))\n",
    "design_table[\"B0\"] = B0\n",
    "  \n",
    "# List of new values\n",
    "results_list = [0.36, 0.81, 0.48, 0, 0, 0.49, 0, 0]\n",
    "\n",
    "design_table['Results'] = results_list\n",
    "\n",
    "#display(design_table)"
   ]
  },
  {
   "cell_type": "markdown",
   "id": "74ee9c35",
   "metadata": {},
   "source": [
    "### Calculate the effects for each Factor\n",
    "\n",
    "* Multiplies each value in the DataFrame (excluding the Results column) with the corresponding value in the Results column. This is typically done to analyze the effect of each factor and interaction term on the results.\n",
    "\n",
    "* Sums up the products for each column and then divides by 4. The division by 4 is specific to this experimental setup and might relate to the normalization or scaling of the results.\n",
    "\n",
    "* This section also creates a bar plot to visualize the sum of products for each column (factor or interaction term). This helps in understanding the relative contribution of each factor or interaction term to the experimental results.\n",
    "\n",
    "___\n",
    "#### Understanding Average Effects:\n",
    "* Magnitude and Direction: The average effect of each factor (and their interactions) indicates how much and in which direction (positive or negative) the factor influences the outcome. A large absolute value suggests a strong effect.\n",
    "* Positive vs Negative Effects: Positive values indicate that higher levels of the factor increase the response, while negative values suggest the opposite.\n",
    "\n",
    "\n",
    "* _Comparing Effects:_\n",
    "    * Relative Magnitude: Compare the magnitude of effects across factors to understand which factors are most influential.\n",
    "    * Interactions: Pay attention to interaction terms (e.g., Factor_1_2). Significant interactions imply that the effect of one factor depends on the level of another.\n",
    "\n",
    "* _Contextual Relevance:_\n",
    "    * Practical Significance: Consider the practical implications of each factor's effect. Even if statistically significant, an effect might not be practically important."
   ]
  },
  {
   "cell_type": "code",
   "execution_count": 33,
   "id": "a6248488",
   "metadata": {},
   "outputs": [
    {
     "data": {
      "text/html": [
       "<div>\n",
       "<style scoped>\n",
       "    .dataframe tbody tr th:only-of-type {\n",
       "        vertical-align: middle;\n",
       "    }\n",
       "\n",
       "    .dataframe tbody tr th {\n",
       "        vertical-align: top;\n",
       "    }\n",
       "\n",
       "    .dataframe thead th {\n",
       "        text-align: right;\n",
       "    }\n",
       "</style>\n",
       "<table border=\"1\" class=\"dataframe\">\n",
       "  <thead>\n",
       "    <tr style=\"text-align: right;\">\n",
       "      <th></th>\n",
       "      <th>Factor_1</th>\n",
       "      <th>Factor_2</th>\n",
       "      <th>Factor_3</th>\n",
       "      <th>Factor_1_2</th>\n",
       "      <th>Factor_1_3</th>\n",
       "      <th>Factor_2_3</th>\n",
       "      <th>Factor_1_2_3</th>\n",
       "      <th>B0</th>\n",
       "      <th>Results</th>\n",
       "    </tr>\n",
       "  </thead>\n",
       "  <tbody>\n",
       "    <tr>\n",
       "      <th>0</th>\n",
       "      <td>-1.000</td>\n",
       "      <td>-1.000</td>\n",
       "      <td>-1.00</td>\n",
       "      <td>1.000</td>\n",
       "      <td>1.00</td>\n",
       "      <td>1.00</td>\n",
       "      <td>-1.00</td>\n",
       "      <td>1.000</td>\n",
       "      <td>0.36</td>\n",
       "    </tr>\n",
       "    <tr>\n",
       "      <th>1</th>\n",
       "      <td>1.000</td>\n",
       "      <td>-1.000</td>\n",
       "      <td>-1.00</td>\n",
       "      <td>-1.000</td>\n",
       "      <td>-1.00</td>\n",
       "      <td>1.00</td>\n",
       "      <td>1.00</td>\n",
       "      <td>1.000</td>\n",
       "      <td>0.81</td>\n",
       "    </tr>\n",
       "    <tr>\n",
       "      <th>2</th>\n",
       "      <td>-1.000</td>\n",
       "      <td>1.000</td>\n",
       "      <td>-1.00</td>\n",
       "      <td>-1.000</td>\n",
       "      <td>1.00</td>\n",
       "      <td>-1.00</td>\n",
       "      <td>1.00</td>\n",
       "      <td>1.000</td>\n",
       "      <td>0.48</td>\n",
       "    </tr>\n",
       "    <tr>\n",
       "      <th>3</th>\n",
       "      <td>1.000</td>\n",
       "      <td>1.000</td>\n",
       "      <td>-1.00</td>\n",
       "      <td>1.000</td>\n",
       "      <td>-1.00</td>\n",
       "      <td>-1.00</td>\n",
       "      <td>-1.00</td>\n",
       "      <td>1.000</td>\n",
       "      <td>0.00</td>\n",
       "    </tr>\n",
       "    <tr>\n",
       "      <th>4</th>\n",
       "      <td>-1.000</td>\n",
       "      <td>-1.000</td>\n",
       "      <td>1.00</td>\n",
       "      <td>1.000</td>\n",
       "      <td>-1.00</td>\n",
       "      <td>-1.00</td>\n",
       "      <td>1.00</td>\n",
       "      <td>1.000</td>\n",
       "      <td>0.00</td>\n",
       "    </tr>\n",
       "    <tr>\n",
       "      <th>5</th>\n",
       "      <td>1.000</td>\n",
       "      <td>-1.000</td>\n",
       "      <td>1.00</td>\n",
       "      <td>-1.000</td>\n",
       "      <td>1.00</td>\n",
       "      <td>-1.00</td>\n",
       "      <td>-1.00</td>\n",
       "      <td>1.000</td>\n",
       "      <td>0.49</td>\n",
       "    </tr>\n",
       "    <tr>\n",
       "      <th>6</th>\n",
       "      <td>-1.000</td>\n",
       "      <td>1.000</td>\n",
       "      <td>1.00</td>\n",
       "      <td>-1.000</td>\n",
       "      <td>-1.00</td>\n",
       "      <td>1.00</td>\n",
       "      <td>-1.00</td>\n",
       "      <td>1.000</td>\n",
       "      <td>0.00</td>\n",
       "    </tr>\n",
       "    <tr>\n",
       "      <th>7</th>\n",
       "      <td>1.000</td>\n",
       "      <td>1.000</td>\n",
       "      <td>1.00</td>\n",
       "      <td>1.000</td>\n",
       "      <td>1.00</td>\n",
       "      <td>1.00</td>\n",
       "      <td>1.00</td>\n",
       "      <td>1.000</td>\n",
       "      <td>0.00</td>\n",
       "    </tr>\n",
       "    <tr>\n",
       "      <th>Sum_of_Products</th>\n",
       "      <td>0.115</td>\n",
       "      <td>-0.295</td>\n",
       "      <td>-0.29</td>\n",
       "      <td>-0.355</td>\n",
       "      <td>0.13</td>\n",
       "      <td>0.05</td>\n",
       "      <td>0.11</td>\n",
       "      <td>0.535</td>\n",
       "      <td>NaN</td>\n",
       "    </tr>\n",
       "  </tbody>\n",
       "</table>\n",
       "</div>"
      ],
      "text/plain": [
       "                 Factor_1  Factor_2  Factor_3  Factor_1_2  Factor_1_3  \\\n",
       "0                  -1.000    -1.000     -1.00       1.000        1.00   \n",
       "1                   1.000    -1.000     -1.00      -1.000       -1.00   \n",
       "2                  -1.000     1.000     -1.00      -1.000        1.00   \n",
       "3                   1.000     1.000     -1.00       1.000       -1.00   \n",
       "4                  -1.000    -1.000      1.00       1.000       -1.00   \n",
       "5                   1.000    -1.000      1.00      -1.000        1.00   \n",
       "6                  -1.000     1.000      1.00      -1.000       -1.00   \n",
       "7                   1.000     1.000      1.00       1.000        1.00   \n",
       "Sum_of_Products     0.115    -0.295     -0.29      -0.355        0.13   \n",
       "\n",
       "                 Factor_2_3  Factor_1_2_3     B0  Results  \n",
       "0                      1.00         -1.00  1.000     0.36  \n",
       "1                      1.00          1.00  1.000     0.81  \n",
       "2                     -1.00          1.00  1.000     0.48  \n",
       "3                     -1.00         -1.00  1.000     0.00  \n",
       "4                     -1.00          1.00  1.000     0.00  \n",
       "5                     -1.00         -1.00  1.000     0.49  \n",
       "6                      1.00         -1.00  1.000     0.00  \n",
       "7                      1.00          1.00  1.000     0.00  \n",
       "Sum_of_Products        0.05          0.11  0.535      NaN  "
      ]
     },
     "metadata": {},
     "output_type": "display_data"
    },
    {
     "data": {
      "image/png": "[encoded data removed]",
      "text/plain": [
       "<Figure size 1000x400 with 1 Axes>"
      ]
     },
     "metadata": {},
     "output_type": "display_data"
    }
   ],
   "source": [
    "# Multiply each column by the 'Results' column\n",
    "products = design_table.drop('Results', axis=1).multiply(design_table['Results'], axis='index')\n",
    "\n",
    "# Sum these products for each column\n",
    "column_sums = products.sum() /4\n",
    "\n",
    "# Append the sums as a new row to your DataFrame\n",
    "design_table.loc['Sum_of_Products'] = column_sums\n",
    "\n",
    "display(design_table)\n",
    "\n",
    "# Extract the 'Sum_of_Products' row\n",
    "sum_of_products = design_table.loc['Sum_of_Products']\n",
    "\n",
    "# Exclude 'Results' column if it's in the same DataFrame\n",
    "if 'Results' in sum_of_products:\n",
    "    sum_of_products = sum_of_products.drop('Results')\n",
    "\n",
    "# Create a bar plot\n",
    "plt.figure(figsize=(10, 4))\n",
    "sum_of_products.plot(kind='bar')\n",
    "plt.title('Sum of Products for Each Column')\n",
    "plt.ylabel('Sum of Products'); #plt.xlabel('Factors')\n",
    "plt.show()"
   ]
  },
  {
   "cell_type": "code",
   "execution_count": 34,
   "id": "17705c28",
   "metadata": {
    "scrolled": true
   },
   "outputs": [
    {
     "data": {
      "text/html": [
       "<div>\n",
       "<style scoped>\n",
       "    .dataframe tbody tr th:only-of-type {\n",
       "        vertical-align: middle;\n",
       "    }\n",
       "\n",
       "    .dataframe tbody tr th {\n",
       "        vertical-align: top;\n",
       "    }\n",
       "\n",
       "    .dataframe thead th {\n",
       "        text-align: right;\n",
       "    }\n",
       "</style>\n",
       "<table border=\"1\" class=\"dataframe\">\n",
       "  <thead>\n",
       "    <tr style=\"text-align: right;\">\n",
       "      <th></th>\n",
       "      <th>Factor_1</th>\n",
       "      <th>Factor_2</th>\n",
       "      <th>Factor_3</th>\n",
       "      <th>Factor_1_2</th>\n",
       "      <th>Factor_1_3</th>\n",
       "      <th>Factor_2_3</th>\n",
       "      <th>Factor_1_2_3</th>\n",
       "      <th>B0</th>\n",
       "      <th>Results</th>\n",
       "    </tr>\n",
       "  </thead>\n",
       "  <tbody>\n",
       "    <tr>\n",
       "      <th>0</th>\n",
       "      <td>-1.000</td>\n",
       "      <td>-1.000</td>\n",
       "      <td>-1.00</td>\n",
       "      <td>1.000</td>\n",
       "      <td>1.00</td>\n",
       "      <td>1.00</td>\n",
       "      <td>-1.00</td>\n",
       "      <td>1.000</td>\n",
       "      <td>0.36</td>\n",
       "    </tr>\n",
       "    <tr>\n",
       "      <th>1</th>\n",
       "      <td>1.000</td>\n",
       "      <td>-1.000</td>\n",
       "      <td>-1.00</td>\n",
       "      <td>-1.000</td>\n",
       "      <td>-1.00</td>\n",
       "      <td>1.00</td>\n",
       "      <td>1.00</td>\n",
       "      <td>1.000</td>\n",
       "      <td>0.81</td>\n",
       "    </tr>\n",
       "    <tr>\n",
       "      <th>2</th>\n",
       "      <td>-1.000</td>\n",
       "      <td>1.000</td>\n",
       "      <td>-1.00</td>\n",
       "      <td>-1.000</td>\n",
       "      <td>1.00</td>\n",
       "      <td>-1.00</td>\n",
       "      <td>1.00</td>\n",
       "      <td>1.000</td>\n",
       "      <td>0.48</td>\n",
       "    </tr>\n",
       "    <tr>\n",
       "      <th>3</th>\n",
       "      <td>1.000</td>\n",
       "      <td>1.000</td>\n",
       "      <td>-1.00</td>\n",
       "      <td>1.000</td>\n",
       "      <td>-1.00</td>\n",
       "      <td>-1.00</td>\n",
       "      <td>-1.00</td>\n",
       "      <td>1.000</td>\n",
       "      <td>0.00</td>\n",
       "    </tr>\n",
       "    <tr>\n",
       "      <th>4</th>\n",
       "      <td>-1.000</td>\n",
       "      <td>-1.000</td>\n",
       "      <td>1.00</td>\n",
       "      <td>1.000</td>\n",
       "      <td>-1.00</td>\n",
       "      <td>-1.00</td>\n",
       "      <td>1.00</td>\n",
       "      <td>1.000</td>\n",
       "      <td>0.00</td>\n",
       "    </tr>\n",
       "    <tr>\n",
       "      <th>5</th>\n",
       "      <td>1.000</td>\n",
       "      <td>-1.000</td>\n",
       "      <td>1.00</td>\n",
       "      <td>-1.000</td>\n",
       "      <td>1.00</td>\n",
       "      <td>-1.00</td>\n",
       "      <td>-1.00</td>\n",
       "      <td>1.000</td>\n",
       "      <td>0.49</td>\n",
       "    </tr>\n",
       "    <tr>\n",
       "      <th>6</th>\n",
       "      <td>-1.000</td>\n",
       "      <td>1.000</td>\n",
       "      <td>1.00</td>\n",
       "      <td>-1.000</td>\n",
       "      <td>-1.00</td>\n",
       "      <td>1.00</td>\n",
       "      <td>-1.00</td>\n",
       "      <td>1.000</td>\n",
       "      <td>0.00</td>\n",
       "    </tr>\n",
       "    <tr>\n",
       "      <th>7</th>\n",
       "      <td>1.000</td>\n",
       "      <td>1.000</td>\n",
       "      <td>1.00</td>\n",
       "      <td>1.000</td>\n",
       "      <td>1.00</td>\n",
       "      <td>1.00</td>\n",
       "      <td>1.00</td>\n",
       "      <td>1.000</td>\n",
       "      <td>0.00</td>\n",
       "    </tr>\n",
       "    <tr>\n",
       "      <th>Sum_of_Products</th>\n",
       "      <td>0.115</td>\n",
       "      <td>-0.295</td>\n",
       "      <td>-0.29</td>\n",
       "      <td>-0.355</td>\n",
       "      <td>0.13</td>\n",
       "      <td>0.05</td>\n",
       "      <td>0.11</td>\n",
       "      <td>0.535</td>\n",
       "      <td>NaN</td>\n",
       "    </tr>\n",
       "    <tr>\n",
       "      <th>Sqrt_of_Squares</th>\n",
       "      <td>0.115</td>\n",
       "      <td>0.295</td>\n",
       "      <td>0.29</td>\n",
       "      <td>0.355</td>\n",
       "      <td>0.13</td>\n",
       "      <td>0.05</td>\n",
       "      <td>0.11</td>\n",
       "      <td>0.535</td>\n",
       "      <td>NaN</td>\n",
       "    </tr>\n",
       "  </tbody>\n",
       "</table>\n",
       "</div>"
      ],
      "text/plain": [
       "                 Factor_1  Factor_2  Factor_3  Factor_1_2  Factor_1_3  \\\n",
       "0                  -1.000    -1.000     -1.00       1.000        1.00   \n",
       "1                   1.000    -1.000     -1.00      -1.000       -1.00   \n",
       "2                  -1.000     1.000     -1.00      -1.000        1.00   \n",
       "3                   1.000     1.000     -1.00       1.000       -1.00   \n",
       "4                  -1.000    -1.000      1.00       1.000       -1.00   \n",
       "5                   1.000    -1.000      1.00      -1.000        1.00   \n",
       "6                  -1.000     1.000      1.00      -1.000       -1.00   \n",
       "7                   1.000     1.000      1.00       1.000        1.00   \n",
       "Sum_of_Products     0.115    -0.295     -0.29      -0.355        0.13   \n",
       "Sqrt_of_Squares     0.115     0.295      0.29       0.355        0.13   \n",
       "\n",
       "                 Factor_2_3  Factor_1_2_3     B0  Results  \n",
       "0                      1.00         -1.00  1.000     0.36  \n",
       "1                      1.00          1.00  1.000     0.81  \n",
       "2                     -1.00          1.00  1.000     0.48  \n",
       "3                     -1.00         -1.00  1.000     0.00  \n",
       "4                     -1.00          1.00  1.000     0.00  \n",
       "5                     -1.00         -1.00  1.000     0.49  \n",
       "6                      1.00         -1.00  1.000     0.00  \n",
       "7                      1.00          1.00  1.000     0.00  \n",
       "Sum_of_Products        0.05          0.11  0.535      NaN  \n",
       "Sqrt_of_Squares        0.05          0.11  0.535      NaN  "
      ]
     },
     "metadata": {},
     "output_type": "display_data"
    }
   ],
   "source": [
    "# Extract the 'Sum_of_Products' row\n",
    "sum_of_products = design_table.loc['Sum_of_Products']\n",
    "\n",
    "# Calculate the square root of the square of each value\n",
    "sqrt_of_squares = np.sqrt(sum_of_products**2)\n",
    "\n",
    "# Add this as a new row to the DataFrame\n",
    "design_table.loc['Sqrt_of_Squares'] = sqrt_of_squares\n",
    "\n",
    "# Display the updated DataFrame\n",
    "display(design_table)"
   ]
  },
  {
   "cell_type": "markdown",
   "id": "d0d20124",
   "metadata": {},
   "source": [
    "#### Calculating Average Effects\n",
    "   * For each column, it calculates the sum of the results where the factor level is 1 (positive level) and the sum where it's -1 (negative level).\n",
    "   * The average effect is computed as the difference between the average of positive level results and the average of negative level results.\n",
    "   * Calculates the percentage of each factor's effect relative to the effect of B0 (the baseline or constant term)."
   ]
  },
  {
   "cell_type": "code",
   "execution_count": 36,
   "id": "6ed3cef0",
   "metadata": {},
   "outputs": [
    {
     "data": {
      "text/html": [
       "<div>\n",
       "<style scoped>\n",
       "    .dataframe tbody tr th:only-of-type {\n",
       "        vertical-align: middle;\n",
       "    }\n",
       "\n",
       "    .dataframe tbody tr th {\n",
       "        vertical-align: top;\n",
       "    }\n",
       "\n",
       "    .dataframe thead th {\n",
       "        text-align: right;\n",
       "    }\n",
       "</style>\n",
       "<table border=\"1\" class=\"dataframe\">\n",
       "  <thead>\n",
       "    <tr style=\"text-align: right;\">\n",
       "      <th></th>\n",
       "      <th>Factor</th>\n",
       "      <th>Average Effect</th>\n",
       "      <th>Percentage of B0</th>\n",
       "    </tr>\n",
       "  </thead>\n",
       "  <tbody>\n",
       "    <tr>\n",
       "      <th>0</th>\n",
       "      <td>Factor_1</td>\n",
       "      <td>0.23</td>\n",
       "      <td>21.495327</td>\n",
       "    </tr>\n",
       "    <tr>\n",
       "      <th>1</th>\n",
       "      <td>Factor_2</td>\n",
       "      <td>-0.59</td>\n",
       "      <td>-55.140187</td>\n",
       "    </tr>\n",
       "    <tr>\n",
       "      <th>2</th>\n",
       "      <td>Factor_3</td>\n",
       "      <td>-0.58</td>\n",
       "      <td>-54.205607</td>\n",
       "    </tr>\n",
       "    <tr>\n",
       "      <th>3</th>\n",
       "      <td>Factor_1_2</td>\n",
       "      <td>-0.71</td>\n",
       "      <td>-66.355140</td>\n",
       "    </tr>\n",
       "    <tr>\n",
       "      <th>4</th>\n",
       "      <td>Factor_1_3</td>\n",
       "      <td>0.26</td>\n",
       "      <td>24.299065</td>\n",
       "    </tr>\n",
       "    <tr>\n",
       "      <th>5</th>\n",
       "      <td>Factor_2_3</td>\n",
       "      <td>0.10</td>\n",
       "      <td>9.345794</td>\n",
       "    </tr>\n",
       "    <tr>\n",
       "      <th>6</th>\n",
       "      <td>Factor_1_2_3</td>\n",
       "      <td>0.22</td>\n",
       "      <td>20.560748</td>\n",
       "    </tr>\n",
       "    <tr>\n",
       "      <th>7</th>\n",
       "      <td>B0</td>\n",
       "      <td>1.07</td>\n",
       "      <td>100.000000</td>\n",
       "    </tr>\n",
       "  </tbody>\n",
       "</table>\n",
       "</div>"
      ],
      "text/plain": [
       "         Factor  Average Effect  Percentage of B0\n",
       "0      Factor_1            0.23         21.495327\n",
       "1      Factor_2           -0.59        -55.140187\n",
       "2      Factor_3           -0.58        -54.205607\n",
       "3    Factor_1_2           -0.71        -66.355140\n",
       "4    Factor_1_3            0.26         24.299065\n",
       "5    Factor_2_3            0.10          9.345794\n",
       "6  Factor_1_2_3            0.22         20.560748\n",
       "7            B0            1.07        100.000000"
      ]
     },
     "metadata": {},
     "output_type": "display_data"
    }
   ],
   "source": [
    "# Columns to check\n",
    "columns_to_check = [\"Factor_1\", \"Factor_2\", \"Factor_3\", \"Factor_1_2\", \"Factor_1_3\", \"Factor_2_3\", \"Factor_1_2_3\", \"B0\"]\n",
    "\n",
    "# Dictionary to store the results\n",
    "average_effects = {}\n",
    "\n",
    "# Calculate the average effect for each column\n",
    "for col in columns_to_check:\n",
    "    sum_positive = design_table.loc[design_table[col] == 1, 'Results'].sum()\n",
    "    sum_negative = design_table.loc[design_table[col] == -1, 'Results'].sum()\n",
    "    average_effects[col] = (sum_positive / 2) - (sum_negative / 2)\n",
    "\n",
    "# Convert the dictionary to a DataFrame for better visualization\n",
    "average_effects_df = pd.DataFrame(list(average_effects.items()), columns=['Factor', 'Average Effect'])\n",
    "\n",
    "# Calculate the percentage relative to B0\n",
    "b0_effect = average_effects['B0']\n",
    "average_effects_df['Percentage of B0'] = average_effects_df['Average Effect'] / b0_effect * 100\n",
    "\n",
    "# Display the results DataFrame\n",
    "display(average_effects_df)"
   ]
  },
  {
   "cell_type": "markdown",
   "id": "3dd8b99f",
   "metadata": {},
   "source": [
    "##### Pareto plot to analyse the Average Effect\n",
    "* Creates a bar plot showing the average effect of each factor. The bars represent the size of the effect (positive or negative) for each factor.\n",
    "* Adds a line plot on a secondary axis (right y-axis) to show the cumulative percentage. This helps in visualizing both the individual effects and their cumulative contribution.\n",
    "___\n",
    "#### Interpreting the Pareto Plot\n",
    "\n",
    "_Understanding the Plot Components:_\n",
    "* Bars: Represent the average effect of each factor (or interaction). The length of the bar indicates the magnitude of the effect.\n",
    "* Line Plot: Shows the cumulative percentage of the total effect attributed to the factors, in descending order of their absolute effects.\n",
    "\n",
    "_Applying the Pareto Principle:_\n",
    "* 80/20 Rule: Often, a small number of factors (around 20%) will account for the majority (around 80%) of the effect. This is the Pareto Principle or the 80/20 rule.\n",
    "* Identify Key Factors: The first few factors in the plot (those with the longest bars) are typically the most significant. Focus on these for impactful results.\n",
    "\n",
    "_Analyzing Cumulative Impact:_\n",
    "* Cumulative Line: Observe where the cumulative line reaches significant percentages (like 50%, 80%). Factors before these points are your key influencers.\n",
    "* Steepness of the Curve: A steeper initial slope indicates that a few factors have a large effect, while a more gradual slope suggests a more even distribution of effects.\n",
    "\n",
    "_Decision Making:_\n",
    "* Prioritization: Use the plot to prioritize factors for optimization, further investigation, or resource allocation.\n",
    "* Strategic Interventions: Focus on factors that contribute most significantly to the response for more effective improvements or problem-solving.\n"
   ]
  },
  {
   "cell_type": "code",
   "execution_count": 37,
   "id": "024bdda7",
   "metadata": {},
   "outputs": [
    {
     "data": {
      "image/png": "[encoded data removed]",
      "text/plain": [
       "<Figure size 1000x400 with 2 Axes>"
      ]
     },
     "metadata": {},
     "output_type": "display_data"
    }
   ],
   "source": [
    "# Sort the DataFrame by the absolute values of 'Average Effect' in descending order\n",
    "average_effects_df['Absolute Effect'] = average_effects_df['Average Effect'].abs()\n",
    "#average_effects_df.sort_values(by='Absolute Effect', ascending=False, inplace=True)\n",
    "\n",
    "# Calculate the cumulative percentage\n",
    "cumulative_percentage = average_effects_df['Absolute Effect'].cumsum() / average_effects_df['Absolute Effect'].sum() * 100\n",
    "\n",
    "# Create a bar plot\n",
    "fig, ax1 = plt.subplots(figsize=(10, 4))\n",
    "bars = ax1.bar(average_effects_df['Factor'], average_effects_df['Average Effect'], color='skyblue')\n",
    "\n",
    "# Add a line plot for the cumulative percentage\n",
    "ax2 = ax1.twinx()\n",
    "ax2.plot(average_effects_df['Factor'], cumulative_percentage, color='green', marker='o')\n",
    "\n",
    "#ax1.set_xlabel('Factors')\n",
    "ax1.set_ylabel('Average Effect')\n",
    "ax2.set_ylabel('Cumulative Percentage (%)')\n",
    "plt.title('Pareto Plot of Average Effects')\n",
    "\n",
    "# Adding the values on top of the bars\n",
    "for bar in bars:\n",
    "    yval = bar.get_height()\n",
    "    ax1.text(bar.get_x() + bar.get_width()/2, yval, round(yval, 2), va='bottom', ha='center')\n",
    "\n",
    "# Show plot\n",
    "plt.show()"
   ]
  },
  {
   "cell_type": "markdown",
   "id": "ecac098f",
   "metadata": {},
   "source": [
    "Things to Keep in Mind\n",
    "\n",
    "* Contextual Fit: Always interpret the results within the context of your specific experiment and its objectives.\n",
    "* Data Quality: Ensure that the experimental data is reliable and the experimental design was appropriately conducted.\n",
    "* Statistical Significance: The Pareto plot and average effects provide a descriptive view. For inferential conclusions, consider conducting a statistical significance test."
   ]
  },
  {
   "cell_type": "markdown",
   "id": "56455161",
   "metadata": {},
   "source": [
    "### Once the user define which Factor has the lower effect, this can be excluded\n",
    "\n",
    "* in this example: Factor 1\n",
    "\n",
    "* So, users must select a value for Factor 1 and keep it fixed during the next steps"
   ]
  },
  {
   "cell_type": "markdown",
   "id": "d517c06f",
   "metadata": {},
   "source": [
    "___\n",
    "\n",
    "### Factorial Design - 2 Factors and 3 levels\n",
    "\n",
    "#### Create the Design matrix for 2 Factors and 3 Levels\n",
    "\n",
    "* for 2 Factors and 3 Levels, the number of experiments will be 9 (L^F or 3^2 experiments)\n",
    "\n",
    "* Factor 1 (the factor excluded for this next step), must be kept fixed through out this next step\n",
    "\n",
    "* Note that some of the experiments from the screening step are present in this step\n",
    "\n",
    "___\n",
    "#### Creating the Full-Factorial Design:\n",
    "\n",
    "* fullfact([3,3]): This function call generates a full-factorial design. The argument [3,3] indicates that there are two factors, each with 3 levels. In full-factorial design terminology, this would be a 3x3 factorial design, resulting in 3² = 9 experimental runs.\n"
   ]
  },
  {
   "cell_type": "code",
   "execution_count": 38,
   "id": "2f89473e",
   "metadata": {
    "scrolled": true
   },
   "outputs": [
    {
     "data": {
      "text/html": [
       "<div>\n",
       "<style scoped>\n",
       "    .dataframe tbody tr th:only-of-type {\n",
       "        vertical-align: middle;\n",
       "    }\n",
       "\n",
       "    .dataframe tbody tr th {\n",
       "        vertical-align: top;\n",
       "    }\n",
       "\n",
       "    .dataframe thead th {\n",
       "        text-align: right;\n",
       "    }\n",
       "</style>\n",
       "<table border=\"1\" class=\"dataframe\">\n",
       "  <thead>\n",
       "    <tr style=\"text-align: right;\">\n",
       "      <th></th>\n",
       "      <th>Factor_1</th>\n",
       "      <th>Factor_2</th>\n",
       "    </tr>\n",
       "  </thead>\n",
       "  <tbody>\n",
       "    <tr>\n",
       "      <th>0</th>\n",
       "      <td>-1.0</td>\n",
       "      <td>-1.0</td>\n",
       "    </tr>\n",
       "    <tr>\n",
       "      <th>1</th>\n",
       "      <td>0.0</td>\n",
       "      <td>-1.0</td>\n",
       "    </tr>\n",
       "    <tr>\n",
       "      <th>2</th>\n",
       "      <td>1.0</td>\n",
       "      <td>-1.0</td>\n",
       "    </tr>\n",
       "    <tr>\n",
       "      <th>3</th>\n",
       "      <td>-1.0</td>\n",
       "      <td>0.0</td>\n",
       "    </tr>\n",
       "    <tr>\n",
       "      <th>4</th>\n",
       "      <td>0.0</td>\n",
       "      <td>0.0</td>\n",
       "    </tr>\n",
       "    <tr>\n",
       "      <th>5</th>\n",
       "      <td>1.0</td>\n",
       "      <td>0.0</td>\n",
       "    </tr>\n",
       "    <tr>\n",
       "      <th>6</th>\n",
       "      <td>-1.0</td>\n",
       "      <td>1.0</td>\n",
       "    </tr>\n",
       "    <tr>\n",
       "      <th>7</th>\n",
       "      <td>0.0</td>\n",
       "      <td>1.0</td>\n",
       "    </tr>\n",
       "    <tr>\n",
       "      <th>8</th>\n",
       "      <td>1.0</td>\n",
       "      <td>1.0</td>\n",
       "    </tr>\n",
       "  </tbody>\n",
       "</table>\n",
       "</div>"
      ],
      "text/plain": [
       "   Factor_1  Factor_2\n",
       "0      -1.0      -1.0\n",
       "1       0.0      -1.0\n",
       "2       1.0      -1.0\n",
       "3      -1.0       0.0\n",
       "4       0.0       0.0\n",
       "5       1.0       0.0\n",
       "6      -1.0       1.0\n",
       "7       0.0       1.0\n",
       "8       1.0       1.0"
      ]
     },
     "execution_count": 38,
     "metadata": {},
     "output_type": "execute_result"
    }
   ],
   "source": [
    "design_ffact = fullfact([3,3])\n",
    "\n",
    "design_ffact = pd.DataFrame(design_ffact)\n",
    "\n",
    "design_table_ffact = design_ffact.replace({0: -1, 1: 0, 2: 1})\n",
    "design_table_ffact.rename(columns={0:\"Factor_1\", 1:\"Factor_2\"}, inplace=True)\n",
    "design_table_ffact"
   ]
  },
  {
   "cell_type": "markdown",
   "id": "30b9e7a2",
   "metadata": {},
   "source": [
    "### Setting up your experimental table\n",
    "\n",
    "* Defining Factor Values\n",
    "\n",
    "* Create the Experimental table that will be used in the _wet-_ laboratory\n",
    "\n",
    "    * The DataFrame is saved as a CSV file named \"Experimental Table from DoE - screening 3F 2L.csv\". The sep=\";\" specifies that the separator used in the file is a semicolon. index=False ensures that the DataFrame index is not included in the CSV file."
   ]
  },
  {
   "cell_type": "code",
   "execution_count": 39,
   "id": "5db38a5b",
   "metadata": {},
   "outputs": [
    {
     "name": "stdout",
     "output_type": "stream",
     "text": [
      "Your experimental table is ready as a CSV file for use.\n"
     ]
    }
   ],
   "source": [
    "### Setting up your experimental table\n",
    "\n",
    "Factor_1 = [10, 20, 30]  # Values for Factor 1\n",
    "Factor_2 = [4.2, 7, 9.8]  # Values for Factor 2\n",
    "\n",
    "# Mapping for each factor\n",
    "mapping_factor_1 = {-1: min(Factor_1), 0: sum(Factor_1)/len(Factor_1), 1: max(Factor_1)}\n",
    "mapping_factor_2 = {-1: min(Factor_2), 0: sum(Factor_2)/len(Factor_2), 1: max(Factor_2)}\n",
    "\n",
    "# Assuming 'design_table' is the DataFrame with -1, 0, and +1 (ex. box_behnken design)\n",
    "exp_table_ffact = design_table_ffact.copy()\n",
    "\n",
    "exp_table_ffact.iloc[:, 0] = exp_table_ffact.iloc[:, 0].map(mapping_factor_1)\n",
    "exp_table_ffact.iloc[:, 1] = exp_table_ffact.iloc[:, 1].map(mapping_factor_2)\n",
    "\n",
    "exp_table_ffact['Results'] = exp_table_ffact.apply(lambda _: '', axis=1)\n",
    "\n",
    "# Sort columns\n",
    "exp_table_ffact[\"Experiment#\"] = exp_table_ffact.index\n",
    "exp_table_ffact = exp_table_ffact[['Experiment#', 'Factor_1', 'Factor_2', 'Results']].iloc[:8]\n",
    "\n",
    "# Display the modified DataFrame\n",
    "#display(exp_table_ffact)\n",
    "\n",
    "exp_table_ffact.to_csv(\"Experimental Table from DoE - Full Factorial 3F 2L.csv\", sep=\";\", index=False)\n",
    "print(f\"Your experimental table is ready as a CSV file for use.\")"
   ]
  },
  {
   "cell_type": "markdown",
   "id": "985f2076",
   "metadata": {},
   "source": [
    "### Add results from the experiments\n",
    "\n",
    "* This adds a new column Results to design_table, containing the results from the experiments."
   ]
  },
  {
   "cell_type": "code",
   "execution_count": 40,
   "id": "86fa79fc",
   "metadata": {},
   "outputs": [
    {
     "data": {
      "text/html": [
       "<div>\n",
       "<style scoped>\n",
       "    .dataframe tbody tr th:only-of-type {\n",
       "        vertical-align: middle;\n",
       "    }\n",
       "\n",
       "    .dataframe tbody tr th {\n",
       "        vertical-align: top;\n",
       "    }\n",
       "\n",
       "    .dataframe thead th {\n",
       "        text-align: right;\n",
       "    }\n",
       "</style>\n",
       "<table border=\"1\" class=\"dataframe\">\n",
       "  <thead>\n",
       "    <tr style=\"text-align: right;\">\n",
       "      <th></th>\n",
       "      <th>Factor_1</th>\n",
       "      <th>Factor_2</th>\n",
       "      <th>B0</th>\n",
       "      <th>Factor_1_2</th>\n",
       "      <th>Factor_1_1</th>\n",
       "      <th>Factor_2_2</th>\n",
       "      <th>Results</th>\n",
       "    </tr>\n",
       "  </thead>\n",
       "  <tbody>\n",
       "    <tr>\n",
       "      <th>0</th>\n",
       "      <td>-1.0</td>\n",
       "      <td>-1.0</td>\n",
       "      <td>1.0</td>\n",
       "      <td>1.0</td>\n",
       "      <td>1.0</td>\n",
       "      <td>1.0</td>\n",
       "      <td>0.38</td>\n",
       "    </tr>\n",
       "    <tr>\n",
       "      <th>1</th>\n",
       "      <td>0.0</td>\n",
       "      <td>-1.0</td>\n",
       "      <td>1.0</td>\n",
       "      <td>-0.0</td>\n",
       "      <td>0.0</td>\n",
       "      <td>1.0</td>\n",
       "      <td>0.81</td>\n",
       "    </tr>\n",
       "    <tr>\n",
       "      <th>2</th>\n",
       "      <td>1.0</td>\n",
       "      <td>-1.0</td>\n",
       "      <td>1.0</td>\n",
       "      <td>-1.0</td>\n",
       "      <td>1.0</td>\n",
       "      <td>1.0</td>\n",
       "      <td>0.88</td>\n",
       "    </tr>\n",
       "    <tr>\n",
       "      <th>3</th>\n",
       "      <td>-1.0</td>\n",
       "      <td>0.0</td>\n",
       "      <td>1.0</td>\n",
       "      <td>-0.0</td>\n",
       "      <td>1.0</td>\n",
       "      <td>0.0</td>\n",
       "      <td>0.00</td>\n",
       "    </tr>\n",
       "    <tr>\n",
       "      <th>4</th>\n",
       "      <td>0.0</td>\n",
       "      <td>0.0</td>\n",
       "      <td>1.0</td>\n",
       "      <td>0.0</td>\n",
       "      <td>0.0</td>\n",
       "      <td>0.0</td>\n",
       "      <td>0.00</td>\n",
       "    </tr>\n",
       "    <tr>\n",
       "      <th>5</th>\n",
       "      <td>1.0</td>\n",
       "      <td>0.0</td>\n",
       "      <td>1.0</td>\n",
       "      <td>0.0</td>\n",
       "      <td>1.0</td>\n",
       "      <td>0.0</td>\n",
       "      <td>0.00</td>\n",
       "    </tr>\n",
       "    <tr>\n",
       "      <th>6</th>\n",
       "      <td>-1.0</td>\n",
       "      <td>1.0</td>\n",
       "      <td>1.0</td>\n",
       "      <td>-1.0</td>\n",
       "      <td>1.0</td>\n",
       "      <td>1.0</td>\n",
       "      <td>0.00</td>\n",
       "    </tr>\n",
       "    <tr>\n",
       "      <th>7</th>\n",
       "      <td>0.0</td>\n",
       "      <td>1.0</td>\n",
       "      <td>1.0</td>\n",
       "      <td>0.0</td>\n",
       "      <td>0.0</td>\n",
       "      <td>1.0</td>\n",
       "      <td>0.00</td>\n",
       "    </tr>\n",
       "    <tr>\n",
       "      <th>8</th>\n",
       "      <td>1.0</td>\n",
       "      <td>1.0</td>\n",
       "      <td>1.0</td>\n",
       "      <td>1.0</td>\n",
       "      <td>1.0</td>\n",
       "      <td>1.0</td>\n",
       "      <td>0.00</td>\n",
       "    </tr>\n",
       "  </tbody>\n",
       "</table>\n",
       "</div>"
      ],
      "text/plain": [
       "   Factor_1  Factor_2   B0  Factor_1_2  Factor_1_1  Factor_2_2  Results\n",
       "0      -1.0      -1.0  1.0         1.0         1.0         1.0     0.38\n",
       "1       0.0      -1.0  1.0        -0.0         0.0         1.0     0.81\n",
       "2       1.0      -1.0  1.0        -1.0         1.0         1.0     0.88\n",
       "3      -1.0       0.0  1.0        -0.0         1.0         0.0     0.00\n",
       "4       0.0       0.0  1.0         0.0         0.0         0.0     0.00\n",
       "5       1.0       0.0  1.0         0.0         1.0         0.0     0.00\n",
       "6      -1.0       1.0  1.0        -1.0         1.0         1.0     0.00\n",
       "7       0.0       1.0  1.0         0.0         0.0         1.0     0.00\n",
       "8       1.0       1.0  1.0         1.0         1.0         1.0     0.00"
      ]
     },
     "execution_count": 40,
     "metadata": {},
     "output_type": "execute_result"
    }
   ],
   "source": [
    "B0 = np.ones(len(design_ffact))\n",
    "design_table_ffact[\"B0\"] = B0\n",
    "\n",
    "# Create new columns by multiplying existing columns\n",
    "design_table_ffact['Factor_1_2'] = design_table_ffact['Factor_1'] * design_table_ffact['Factor_2']\n",
    "design_table_ffact['Factor_1_1'] = design_table_ffact['Factor_1'] * design_table_ffact['Factor_1']\n",
    "design_table_ffact['Factor_2_2'] = design_table_ffact['Factor_2'] * design_table_ffact['Factor_2']\n",
    "\n",
    "#results_list2 = pd.read_csv(\"results.csv\")\n",
    "\n",
    "# List of new values\n",
    "\n",
    "results_list_2 = [0.38, 0.81, 0.88, 0, 0, 0, 0, 0, 0]\n",
    "\n",
    "design_table_ffact['Results'] = results_list_2\n",
    "\n",
    "design_table_ffact"
   ]
  },
  {
   "cell_type": "markdown",
   "id": "d9cd9089",
   "metadata": {},
   "source": [
    "#### After completing the screening phase, moving on to a full factorial design with three levels is a great next step. In a full factorial design, every possible combination of factors and levels is tested. \n",
    "\n",
    "* We don´t need to calculate effects in this step\n",
    "\n",
    "* A full factorial design with three levels is a comprehensive approach that allows you to explore the effects of each factor thoroughly and understand their interactions. It's a powerful method in experimental design, especially when you need detailed insights into the relationships between multiple variables."
   ]
  },
  {
   "cell_type": "code",
   "execution_count": 41,
   "id": "5caaba45",
   "metadata": {},
   "outputs": [],
   "source": [
    "# Extracting y-values (dependent variable) and x-values (independent variables)\n",
    "y = design_table_ffact[['Results']].values\n",
    "X = design_table_ffact[[\"Factor_1\", \"Factor_2\", \"Factor_1_2\", \"Factor_1_1\", \"Factor_2_2\"]].values\n",
    "\n",
    "# Add a column of ones to X to include an intercept in the model\n",
    "X = np.hstack([np.ones((X.shape[0], 1)), X])\n",
    "\n",
    "# Perform linear regression\n",
    "coefficients, residuals, rank, s = np.linalg.lstsq(X, y, rcond=None)\n",
    "\n",
    "# The standard error (square root of the diagonal of the covariance matrix)\n",
    "standard_error = np.sqrt(residuals / (len(y) - len(coefficients)))\n",
    "\n",
    "# Accessing the sixth element (note: Python is zero-indexed, so it's the fifth element in Python)\n",
    "# In case of multiple regression, you might need to adjust the index based on the output structure\n",
    "sixth_element = standard_error[0] if len(standard_error) > 0 else None\n",
    "\n",
    "#display(coefficients)"
   ]
  },
  {
   "cell_type": "markdown",
   "id": "df1a9068",
   "metadata": {},
   "source": [
    "### Creating the Response Surface matrix\n",
    "\n",
    "* Creating a Response Surface matrix involves setting up a framework where you can later input the responses (or outcomes) of your experiments based on varying levels of two factors. The code you've provided sets up such a matrix with values ranging from -1 to 1 (representing the factor levels) and divides this range into 11 steps.\n",
    "\n",
    "* When you run Resp_surf_ffact, it will display an 11x11 grid. Initially, all cells are filled with zeros. This matrix serves as a template where you can input the results of your experiments. Each cell corresponds to a combination of factor levels (one level from the horizontal axis and one from the vertical axis)."
   ]
  },
  {
   "cell_type": "code",
   "execution_count": 47,
   "id": "380b1618",
   "metadata": {
    "scrolled": true
   },
   "outputs": [],
   "source": [
    "# This creates a linearly spaced vector of 11 points between -1 and 1. These points represent the levels of your factors in the response surface matrix.\n",
    "vector = np.linspace(-1, 1, 11)\n",
    "\n",
    "# Create an 11x11 DataFrame with zeros (or any default value)\n",
    "Resp_surf_ffact = pd.DataFrame(np.zeros((12, 12)))\n",
    "\n",
    "# Set the headers and index with the same vector values\n",
    "Resp_surf_ffact.columns = [''] + list(vector)\n",
    "Resp_surf_ffact.index = [''] + list(vector)\n",
    "Resp_surf_ffact = Resp_surf_ffact.iloc[1:]\n",
    "Resp_surf_ffact = Resp_surf_ffact.iloc[:, 1:]\n",
    "#Resp_surf_ffact"
   ]
  },
  {
   "cell_type": "markdown",
   "id": "6fa159b1",
   "metadata": {},
   "source": [
    "Ensure that the coefficients array is defined with the appropriate values. This array should contain six elements representing the constant term, the linear coefficients, the interaction coefficient, and the quadratic coefficients."
   ]
  },
  {
   "cell_type": "code",
   "execution_count": 43,
   "id": "c5eb31c6",
   "metadata": {},
   "outputs": [
    {
     "data": {
      "text/html": [
       "<div>\n",
       "<style scoped>\n",
       "    .dataframe tbody tr th:only-of-type {\n",
       "        vertical-align: middle;\n",
       "    }\n",
       "\n",
       "    .dataframe tbody tr th {\n",
       "        vertical-align: top;\n",
       "    }\n",
       "\n",
       "    .dataframe thead th {\n",
       "        text-align: right;\n",
       "    }\n",
       "</style>\n",
       "<table border=\"1\" class=\"dataframe\">\n",
       "  <thead>\n",
       "    <tr style=\"text-align: right;\">\n",
       "      <th></th>\n",
       "      <th>-1.0</th>\n",
       "      <th>-0.8</th>\n",
       "      <th>-0.6</th>\n",
       "      <th>-0.4</th>\n",
       "      <th>-0.2</th>\n",
       "      <th>0.0</th>\n",
       "      <th>0.2</th>\n",
       "      <th>0.4</th>\n",
       "      <th>0.6</th>\n",
       "      <th>0.8</th>\n",
       "      <th>1.0</th>\n",
       "    </tr>\n",
       "  </thead>\n",
       "  <tbody>\n",
       "    <tr>\n",
       "      <th>-1.0</th>\n",
       "      <td>0.461667</td>\n",
       "      <td>0.524933</td>\n",
       "      <td>0.5834</td>\n",
       "      <td>0.637067</td>\n",
       "      <td>0.685933</td>\n",
       "      <td>0.7300</td>\n",
       "      <td>0.769267</td>\n",
       "      <td>0.803733</td>\n",
       "      <td>0.8334</td>\n",
       "      <td>0.858267</td>\n",
       "      <td>0.878333</td>\n",
       "    </tr>\n",
       "    <tr>\n",
       "      <th>-0.8</th>\n",
       "      <td>0.293467</td>\n",
       "      <td>0.351733</td>\n",
       "      <td>0.4052</td>\n",
       "      <td>0.453867</td>\n",
       "      <td>0.497733</td>\n",
       "      <td>0.5368</td>\n",
       "      <td>0.571067</td>\n",
       "      <td>0.600533</td>\n",
       "      <td>0.6252</td>\n",
       "      <td>0.645067</td>\n",
       "      <td>0.660133</td>\n",
       "    </tr>\n",
       "    <tr>\n",
       "      <th>-0.6</th>\n",
       "      <td>0.152867</td>\n",
       "      <td>0.206133</td>\n",
       "      <td>0.2546</td>\n",
       "      <td>0.298267</td>\n",
       "      <td>0.337133</td>\n",
       "      <td>0.3712</td>\n",
       "      <td>0.400467</td>\n",
       "      <td>0.424933</td>\n",
       "      <td>0.4446</td>\n",
       "      <td>0.459467</td>\n",
       "      <td>0.469533</td>\n",
       "    </tr>\n",
       "    <tr>\n",
       "      <th>-0.4</th>\n",
       "      <td>0.039867</td>\n",
       "      <td>0.088133</td>\n",
       "      <td>0.1316</td>\n",
       "      <td>0.170267</td>\n",
       "      <td>0.204133</td>\n",
       "      <td>0.2332</td>\n",
       "      <td>0.257467</td>\n",
       "      <td>0.276933</td>\n",
       "      <td>0.2916</td>\n",
       "      <td>0.301467</td>\n",
       "      <td>0.306533</td>\n",
       "    </tr>\n",
       "    <tr>\n",
       "      <th>-0.2</th>\n",
       "      <td>-0.045533</td>\n",
       "      <td>-0.002267</td>\n",
       "      <td>0.0362</td>\n",
       "      <td>0.069867</td>\n",
       "      <td>0.098733</td>\n",
       "      <td>0.1228</td>\n",
       "      <td>0.142067</td>\n",
       "      <td>0.156533</td>\n",
       "      <td>0.1662</td>\n",
       "      <td>0.171067</td>\n",
       "      <td>0.171133</td>\n",
       "    </tr>\n",
       "    <tr>\n",
       "      <th>0.0</th>\n",
       "      <td>-0.103333</td>\n",
       "      <td>-0.065067</td>\n",
       "      <td>-0.0316</td>\n",
       "      <td>-0.002933</td>\n",
       "      <td>0.020933</td>\n",
       "      <td>0.0400</td>\n",
       "      <td>0.054267</td>\n",
       "      <td>0.063733</td>\n",
       "      <td>0.0684</td>\n",
       "      <td>0.068267</td>\n",
       "      <td>0.063333</td>\n",
       "    </tr>\n",
       "    <tr>\n",
       "      <th>0.2</th>\n",
       "      <td>-0.133533</td>\n",
       "      <td>-0.100267</td>\n",
       "      <td>-0.0718</td>\n",
       "      <td>-0.048133</td>\n",
       "      <td>-0.029267</td>\n",
       "      <td>-0.0152</td>\n",
       "      <td>-0.005933</td>\n",
       "      <td>-0.001467</td>\n",
       "      <td>-0.0018</td>\n",
       "      <td>-0.006933</td>\n",
       "      <td>-0.016867</td>\n",
       "    </tr>\n",
       "    <tr>\n",
       "      <th>0.4</th>\n",
       "      <td>-0.136133</td>\n",
       "      <td>-0.107867</td>\n",
       "      <td>-0.0844</td>\n",
       "      <td>-0.065733</td>\n",
       "      <td>-0.051867</td>\n",
       "      <td>-0.0428</td>\n",
       "      <td>-0.038533</td>\n",
       "      <td>-0.039067</td>\n",
       "      <td>-0.0444</td>\n",
       "      <td>-0.054533</td>\n",
       "      <td>-0.069467</td>\n",
       "    </tr>\n",
       "    <tr>\n",
       "      <th>0.6</th>\n",
       "      <td>-0.111133</td>\n",
       "      <td>-0.087867</td>\n",
       "      <td>-0.0694</td>\n",
       "      <td>-0.055733</td>\n",
       "      <td>-0.046867</td>\n",
       "      <td>-0.0428</td>\n",
       "      <td>-0.043533</td>\n",
       "      <td>-0.049067</td>\n",
       "      <td>-0.0594</td>\n",
       "      <td>-0.074533</td>\n",
       "      <td>-0.094467</td>\n",
       "    </tr>\n",
       "    <tr>\n",
       "      <th>0.8</th>\n",
       "      <td>-0.058533</td>\n",
       "      <td>-0.040267</td>\n",
       "      <td>-0.0268</td>\n",
       "      <td>-0.018133</td>\n",
       "      <td>-0.014267</td>\n",
       "      <td>-0.0152</td>\n",
       "      <td>-0.020933</td>\n",
       "      <td>-0.031467</td>\n",
       "      <td>-0.0468</td>\n",
       "      <td>-0.066933</td>\n",
       "      <td>-0.091867</td>\n",
       "    </tr>\n",
       "    <tr>\n",
       "      <th>1.0</th>\n",
       "      <td>0.021667</td>\n",
       "      <td>0.034933</td>\n",
       "      <td>0.0434</td>\n",
       "      <td>0.047067</td>\n",
       "      <td>0.045933</td>\n",
       "      <td>0.0400</td>\n",
       "      <td>0.029267</td>\n",
       "      <td>0.013733</td>\n",
       "      <td>-0.0066</td>\n",
       "      <td>-0.031733</td>\n",
       "      <td>-0.061667</td>\n",
       "    </tr>\n",
       "  </tbody>\n",
       "</table>\n",
       "</div>"
      ],
      "text/plain": [
       "          -1.0      -0.8    -0.6      -0.4      -0.2     0.0       0.2  \\\n",
       "-1.0  0.461667  0.524933  0.5834  0.637067  0.685933  0.7300  0.769267   \n",
       "-0.8  0.293467  0.351733  0.4052  0.453867  0.497733  0.5368  0.571067   \n",
       "-0.6  0.152867  0.206133  0.2546  0.298267  0.337133  0.3712  0.400467   \n",
       "-0.4  0.039867  0.088133  0.1316  0.170267  0.204133  0.2332  0.257467   \n",
       "-0.2 -0.045533 -0.002267  0.0362  0.069867  0.098733  0.1228  0.142067   \n",
       " 0.0 -0.103333 -0.065067 -0.0316 -0.002933  0.020933  0.0400  0.054267   \n",
       " 0.2 -0.133533 -0.100267 -0.0718 -0.048133 -0.029267 -0.0152 -0.005933   \n",
       " 0.4 -0.136133 -0.107867 -0.0844 -0.065733 -0.051867 -0.0428 -0.038533   \n",
       " 0.6 -0.111133 -0.087867 -0.0694 -0.055733 -0.046867 -0.0428 -0.043533   \n",
       " 0.8 -0.058533 -0.040267 -0.0268 -0.018133 -0.014267 -0.0152 -0.020933   \n",
       " 1.0  0.021667  0.034933  0.0434  0.047067  0.045933  0.0400  0.029267   \n",
       "\n",
       "           0.4     0.6       0.8       1.0  \n",
       "-1.0  0.803733  0.8334  0.858267  0.878333  \n",
       "-0.8  0.600533  0.6252  0.645067  0.660133  \n",
       "-0.6  0.424933  0.4446  0.459467  0.469533  \n",
       "-0.4  0.276933  0.2916  0.301467  0.306533  \n",
       "-0.2  0.156533  0.1662  0.171067  0.171133  \n",
       " 0.0  0.063733  0.0684  0.068267  0.063333  \n",
       " 0.2 -0.001467 -0.0018 -0.006933 -0.016867  \n",
       " 0.4 -0.039067 -0.0444 -0.054533 -0.069467  \n",
       " 0.6 -0.049067 -0.0594 -0.074533 -0.094467  \n",
       " 0.8 -0.031467 -0.0468 -0.066933 -0.091867  \n",
       " 1.0  0.013733 -0.0066 -0.031733 -0.061667  "
      ]
     },
     "metadata": {},
     "output_type": "display_data"
    }
   ],
   "source": [
    "Resp_surf_ffact2 = Resp_surf_ffact\n",
    "\n",
    "# Populate the DataFrame\n",
    "for i in range(11):  # Skip the first row and column\n",
    "    for j in range(11):\n",
    "        x = Resp_surf_ffact2.columns[j]  # Corresponding vector value for the column\n",
    "        y = Resp_surf_ffact2.index[i]    # Corresponding vector value for the row\n",
    "        # Apply the formula\n",
    "        Resp_surf_ffact2.iloc[i, j] = (coefficients[0] + coefficients[1]*x + coefficients[2]*y +\n",
    "                                coefficients[3]*x*y + coefficients[4]*x*x + coefficients[5]*y*y)\n",
    "\n",
    "# Display the updated DataFrame\n",
    "display(Resp_surf_ffact2)"
   ]
  },
  {
   "cell_type": "markdown",
   "id": "830f8065",
   "metadata": {},
   "source": [
    "### Creating a 3D surface plot from the data in your Response Surface matrix\n",
    "* This type of plot is particularly useful for visualizing the relationship between two factors and a response variable in a clear, intuitive manner.\n",
    "\n",
    "#### Interpretation: \n",
    "* The plot visually represents how changes in 'Factor_1' and 'Factor_2' together affect the yield (response variable). Peaks and valleys in the surface indicate combinations of factor levels that result in high and low yields, respectively.\n",
    "\n",
    "#### Optimization: \n",
    "* This kind of plot can be used to identify optimal combinations of factor levels for maximizing or minimizing the response variable."
   ]
  },
  {
   "cell_type": "code",
   "execution_count": 44,
   "id": "a16cf45e",
   "metadata": {},
   "outputs": [
    {
     "data": {
      "image/png": "[encoded data removed]",
      "text/plain": [
       "<Figure size 1000x800 with 2 Axes>"
      ]
     },
     "metadata": {},
     "output_type": "display_data"
    }
   ],
   "source": [
    "import matplotlib.pyplot as plt\n",
    "from mpl_toolkits.mplot3d import Axes3D\n",
    "import numpy as np\n",
    "import pandas as pd\n",
    "\n",
    "# Create coordinate arrays for the x and y values\n",
    "X, Y = np.meshgrid(Resp_surf_ffact2.columns.astype(float), Resp_surf_ffact2.index.astype(float))\n",
    "\n",
    "# Get the z values from the DataFrame and handle NaN or infinite values\n",
    "Z = Resp_surf_ffact2.values\n",
    "Z = np.nan_to_num(Z)  # Replace NaN with 0 and infinite with large finite numbers\n",
    "\n",
    "# Ensure all arrays are of numeric type\n",
    "X, Y, Z = [np.array(arr, dtype=float) for arr in [X, Y, Z]]\n",
    "\n",
    "# Create a 3D plot\n",
    "fig = plt.figure(figsize=(10, 8))\n",
    "ax = fig.add_subplot(111, projection='3d')\n",
    "\n",
    "# Plot a surface\n",
    "surf = ax.plot_surface(X, Y, Z, cmap='viridis', edgecolor='none')\n",
    "\n",
    "# Add labels and title\n",
    "ax.set_xlabel('Factor_1')\n",
    "ax.set_ylabel('Factor_2')\n",
    "ax.set_zlabel('Yield')\n",
    "ax.set_title('3D Surface Plot')\n",
    "\n",
    "# Add a color bar\n",
    "fig.colorbar(surf)\n",
    "\n",
    "plt.show()"
   ]
  },
  {
   "cell_type": "code",
   "execution_count": 46,
   "id": "f617fd37",
   "metadata": {
    "scrolled": false
   },
   "outputs": [
    {
     "data": {
      "application/vnd.plotly.v1+json": {
       "config": {
        "plotlyServerURL": "https://plot.ly"
       },
       "data": [
        {
         "contours": {
          "z": {
           "highlightcolor": "limegreen",
           "project": {
            "z": true
           },
           "show": true,
           "usecolormap": true
          }
         },
         "type": "surface",
         "x": [
          [
           -1,
           -0.8,
           -0.6,
           -0.3999999999999999,
           -0.19999999999999996,
           0,
           0.20000000000000018,
           0.40000000000000013,
           0.6000000000000001,
           0.8,
           1
          ],
          [
           -1,
           -0.8,
           -0.6,
           -0.3999999999999999,
           -0.19999999999999996,
           0,
           0.20000000000000018,
           0.40000000000000013,
           0.6000000000000001,
           0.8,
           1
          ],
          [
           -1,
           -0.8,
           -0.6,
           -0.3999999999999999,
           -0.19999999999999996,
           0,
           0.20000000000000018,
           0.40000000000000013,
           0.6000000000000001,
           0.8,
           1
          ],
          [
           -1,
           -0.8,
           -0.6,
           -0.3999999999999999,
           -0.19999999999999996,
           0,
           0.20000000000000018,
           0.40000000000000013,
           0.6000000000000001,
           0.8,
           1
          ],
          [
           -1,
           -0.8,
           -0.6,
           -0.3999999999999999,
           -0.19999999999999996,
           0,
           0.20000000000000018,
           0.40000000000000013,
           0.6000000000000001,
           0.8,
           1
          ],
          [
           -1,
           -0.8,
           -0.6,
           -0.3999999999999999,
           -0.19999999999999996,
           0,
           0.20000000000000018,
           0.40000000000000013,
           0.6000000000000001,
           0.8,
           1
          ],
          [
           -1,
           -0.8,
           -0.6,
           -0.3999999999999999,
           -0.19999999999999996,
           0,
           0.20000000000000018,
           0.40000000000000013,
           0.6000000000000001,
           0.8,
           1
          ],
          [
           -1,
           -0.8,
           -0.6,
           -0.3999999999999999,
           -0.19999999999999996,
           0,
           0.20000000000000018,
           0.40000000000000013,
           0.6000000000000001,
           0.8,
           1
          ],
          [
           -1,
           -0.8,
           -0.6,
           -0.3999999999999999,
           -0.19999999999999996,
           0,
           0.20000000000000018,
           0.40000000000000013,
           0.6000000000000001,
           0.8,
           1
          ],
          [
           -1,
           -0.8,
           -0.6,
           -0.3999999999999999,
           -0.19999999999999996,
           0,
           0.20000000000000018,
           0.40000000000000013,
           0.6000000000000001,
           0.8,
           1
          ],
          [
           -1,
           -0.8,
           -0.6,
           -0.3999999999999999,
           -0.19999999999999996,
           0,
           0.20000000000000018,
           0.40000000000000013,
           0.6000000000000001,
           0.8,
           1
          ]
         ],
         "y": [
          [
           -1,
           -1,
           -1,
           -1,
           -1,
           -1,
           -1,
           -1,
           -1,
           -1,
           -1
          ],
          [
           -0.8,
           -0.8,
           -0.8,
           -0.8,
           -0.8,
           -0.8,
           -0.8,
           -0.8,
           -0.8,
           -0.8,
           -0.8
          ],
          [
           -0.6,
           -0.6,
           -0.6,
           -0.6,
           -0.6,
           -0.6,
           -0.6,
           -0.6,
           -0.6,
           -0.6,
           -0.6
          ],
          [
           -0.3999999999999999,
           -0.3999999999999999,
           -0.3999999999999999,
           -0.3999999999999999,
           -0.3999999999999999,
           -0.3999999999999999,
           -0.3999999999999999,
           -0.3999999999999999,
           -0.3999999999999999,
           -0.3999999999999999,
           -0.3999999999999999
          ],
          [
           -0.19999999999999996,
           -0.19999999999999996,
           -0.19999999999999996,
           -0.19999999999999996,
           -0.19999999999999996,
           -0.19999999999999996,
           -0.19999999999999996,
           -0.19999999999999996,
           -0.19999999999999996,
           -0.19999999999999996,
           -0.19999999999999996
          ],
          [
           0,
           0,
           0,
           0,
           0,
           0,
           0,
           0,
           0,
           0,
           0
          ],
          [
           0.20000000000000018,
           0.20000000000000018,
           0.20000000000000018,
           0.20000000000000018,
           0.20000000000000018,
           0.20000000000000018,
           0.20000000000000018,
           0.20000000000000018,
           0.20000000000000018,
           0.20000000000000018,
           0.20000000000000018
          ],
          [
           0.40000000000000013,
           0.40000000000000013,
           0.40000000000000013,
           0.40000000000000013,
           0.40000000000000013,
           0.40000000000000013,
           0.40000000000000013,
           0.40000000000000013,
           0.40000000000000013,
           0.40000000000000013,
           0.40000000000000013
          ],
          [
           0.6000000000000001,
           0.6000000000000001,
           0.6000000000000001,
           0.6000000000000001,
           0.6000000000000001,
           0.6000000000000001,
           0.6000000000000001,
           0.6000000000000001,
           0.6000000000000001,
           0.6000000000000001,
           0.6000000000000001
          ],
          [
           0.8,
           0.8,
           0.8,
           0.8,
           0.8,
           0.8,
           0.8,
           0.8,
           0.8,
           0.8,
           0.8
          ],
          [
           1,
           1,
           1,
           1,
           1,
           1,
           1,
           1,
           1,
           1,
           1
          ]
         ],
         "z": [
          [
           0.46166666666666645,
           0.524933333333333,
           0.5833999999999997,
           0.6370666666666663,
           0.6859333333333331,
           0.7299999999999998,
           0.7692666666666663,
           0.803733333333333,
           0.8333999999999997,
           0.8582666666666665,
           0.8783333333333332
          ],
          [
           0.2934666666666666,
           0.35173333333333323,
           0.4051999999999999,
           0.45386666666666653,
           0.49773333333333314,
           0.5367999999999998,
           0.5710666666666665,
           0.6005333333333331,
           0.6252,
           0.6450666666666666,
           0.6601333333333333
          ],
          [
           0.15286666666666665,
           0.20613333333333328,
           0.25459999999999994,
           0.29826666666666657,
           0.3371333333333333,
           0.37119999999999986,
           0.40046666666666664,
           0.4249333333333333,
           0.4446,
           0.4594666666666667,
           0.46953333333333336
          ],
          [
           0.039866666666666675,
           0.08813333333333329,
           0.13159999999999994,
           0.1702666666666666,
           0.20413333333333328,
           0.2331999999999999,
           0.2574666666666666,
           0.2769333333333333,
           0.29159999999999997,
           0.30146666666666666,
           0.30653333333333344
          ],
          [
           -0.045533333333333245,
           -0.0022666666666666304,
           0.036200000000000024,
           0.06986666666666669,
           0.09873333333333334,
           0.1228,
           0.1420666666666667,
           0.15653333333333339,
           0.1662000000000001,
           0.17106666666666678,
           0.17113333333333353
          ],
          [
           -0.10333333333333321,
           -0.06506666666666658,
           -0.03159999999999993,
           -0.002933333333333267,
           0.020933333333333394,
           0.04000000000000006,
           0.054266666666666755,
           0.06373333333333345,
           0.06840000000000016,
           0.06826666666666686,
           0.06333333333333359
          ],
          [
           -0.13353333333333325,
           -0.10026666666666662,
           -0.07179999999999995,
           -0.0481333333333333,
           -0.029266666666666635,
           -0.01519999999999997,
           -0.005933333333333287,
           -0.0014666666666665988,
           -0.0017999999999998954,
           -0.006933333333333187,
           -0.016866666666666457
          ],
          [
           -0.13613333333333325,
           -0.10786666666666661,
           -0.08439999999999995,
           -0.06573333333333328,
           -0.05186666666666664,
           -0.042799999999999956,
           -0.038533333333333274,
           -0.039066666666666576,
           -0.04439999999999986,
           -0.05453333333333316,
           -0.06946666666666643
          ],
          [
           -0.11113333333333324,
           -0.08786666666666663,
           -0.0694,
           -0.055733333333333315,
           -0.046866666666666654,
           -0.04279999999999999,
           -0.0435333333333333,
           -0.049066666666666606,
           -0.05939999999999988,
           -0.07453333333333319,
           -0.09446666666666646
          ],
          [
           -0.05853333333333341,
           -0.04026666666666681,
           -0.0268000000000001,
           -0.018133333333333446,
           -0.014266666666666789,
           -0.015200000000000102,
           -0.020933333333333415,
           -0.031466666666666726,
           -0.046800000000000036,
           -0.06693333333333326,
           -0.09186666666666657
          ],
          [
           0.0216666666666665,
           0.03493333333333315,
           0.04339999999999983,
           0.04706666666666648,
           0.045933333333333104,
           0.03999999999999987,
           0.029266666666666497,
           0.013733333333333209,
           -0.006599999999999995,
           -0.031733333333333336,
           -0.06166666666666659
          ]
         ]
        }
       ],
       "layout": {
        "autosize": false,
        "height": 800,
        "margin": {
         "b": 65,
         "l": 65,
         "r": 50,
         "t": 90
        },
        "scene": {
         "xaxis": {
          "title": {
           "text": "Factor_1"
          }
         },
         "yaxis": {
          "title": {
           "text": "Factor_1"
          }
         },
         "zaxis": {
          "title": {
           "text": "Intensity"
          }
         }
        },
        "template": {
         "data": {
          "bar": [
           {
            "error_x": {
             "color": "#2a3f5f"
            },
            "error_y": {
             "color": "#2a3f5f"
            },
            "marker": {
             "line": {
              "color": "#E5ECF6",
              "width": 0.5
             },
             "pattern": {
              "fillmode": "overlay",
              "size": 10,
              "solidity": 0.2
             }
            },
            "type": "bar"
           }
          ],
          "barpolar": [
           {
            "marker": {
             "line": {
              "color": "#E5ECF6",
              "width": 0.5
             },
             "pattern": {
              "fillmode": "overlay",
              "size": 10,
              "solidity": 0.2
             }
            },
            "type": "barpolar"
           }
          ],
          "carpet": [
           {
            "aaxis": {
             "endlinecolor": "#2a3f5f",
             "gridcolor": "white",
             "linecolor": "white",
             "minorgridcolor": "white",
             "startlinecolor": "#2a3f5f"
            },
            "baxis": {
             "endlinecolor": "#2a3f5f",
             "gridcolor": "white",
             "linecolor": "white",
             "minorgridcolor": "white",
             "startlinecolor": "#2a3f5f"
            },
            "type": "carpet"
           }
          ],
          "choropleth": [
           {
            "colorbar": {
             "outlinewidth": 0,
             "ticks": ""
            },
            "type": "choropleth"
           }
          ],
          "contour": [
           {
            "colorbar": {
             "outlinewidth": 0,
             "ticks": ""
            },
            "colorscale": [
             [
              0,
              "#0d0887"
             ],
             [
              0.1111111111111111,
              "#46039f"
             ],
             [
              0.2222222222222222,
              "#7201a8"
             ],
             [
              0.3333333333333333,
              "#9c179e"
             ],
             [
              0.4444444444444444,
              "#bd3786"
             ],
             [
              0.5555555555555556,
              "#d8576b"
             ],
             [
              0.6666666666666666,
              "#ed7953"
             ],
             [
              0.7777777777777778,
              "#fb9f3a"
             ],
             [
              0.8888888888888888,
              "#fdca26"
             ],
             [
              1,
              "#f0f921"
             ]
            ],
            "type": "contour"
           }
          ],
          "contourcarpet": [
           {
            "colorbar": {
             "outlinewidth": 0,
             "ticks": ""
            },
            "type": "contourcarpet"
           }
          ],
          "heatmap": [
           {
            "colorbar": {
             "outlinewidth": 0,
             "ticks": ""
            },
            "colorscale": [
             [
              0,
              "#0d0887"
             ],
             [
              0.1111111111111111,
              "#46039f"
             ],
             [
              0.2222222222222222,
              "#7201a8"
             ],
             [
              0.3333333333333333,
              "#9c179e"
             ],
             [
              0.4444444444444444,
              "#bd3786"
             ],
             [
              0.5555555555555556,
              "#d8576b"
             ],
             [
              0.6666666666666666,
              "#ed7953"
             ],
             [
              0.7777777777777778,
              "#fb9f3a"
             ],
             [
              0.8888888888888888,
              "#fdca26"
             ],
             [
              1,
              "#f0f921"
             ]
            ],
            "type": "heatmap"
           }
          ],
          "heatmapgl": [
           {
            "colorbar": {
             "outlinewidth": 0,
             "ticks": ""
            },
            "colorscale": [
             [
              0,
              "#0d0887"
             ],
             [
              0.1111111111111111,
              "#46039f"
             ],
             [
              0.2222222222222222,
              "#7201a8"
             ],
             [
              0.3333333333333333,
              "#9c179e"
             ],
             [
              0.4444444444444444,
              "#bd3786"
             ],
             [
              0.5555555555555556,
              "#d8576b"
             ],
             [
              0.6666666666666666,
              "#ed7953"
             ],
             [
              0.7777777777777778,
              "#fb9f3a"
             ],
             [
              0.8888888888888888,
              "#fdca26"
             ],
             [
              1,
              "#f0f921"
             ]
            ],
            "type": "heatmapgl"
           }
          ],
          "histogram": [
           {
            "marker": {
             "pattern": {
              "fillmode": "overlay",
              "size": 10,
              "solidity": 0.2
             }
            },
            "type": "histogram"
           }
          ],
          "histogram2d": [
           {
            "colorbar": {
             "outlinewidth": 0,
             "ticks": ""
            },
            "colorscale": [
             [
              0,
              "#0d0887"
             ],
             [
              0.1111111111111111,
              "#46039f"
             ],
             [
              0.2222222222222222,
              "#7201a8"
             ],
             [
              0.3333333333333333,
              "#9c179e"
             ],
             [
              0.4444444444444444,
              "#bd3786"
             ],
             [
              0.5555555555555556,
              "#d8576b"
             ],
             [
              0.6666666666666666,
              "#ed7953"
             ],
             [
              0.7777777777777778,
              "#fb9f3a"
             ],
             [
              0.8888888888888888,
              "#fdca26"
             ],
             [
              1,
              "#f0f921"
             ]
            ],
            "type": "histogram2d"
           }
          ],
          "histogram2dcontour": [
           {
            "colorbar": {
             "outlinewidth": 0,
             "ticks": ""
            },
            "colorscale": [
             [
              0,
              "#0d0887"
             ],
             [
              0.1111111111111111,
              "#46039f"
             ],
             [
              0.2222222222222222,
              "#7201a8"
             ],
             [
              0.3333333333333333,
              "#9c179e"
             ],
             [
              0.4444444444444444,
              "#bd3786"
             ],
             [
              0.5555555555555556,
              "#d8576b"
             ],
             [
              0.6666666666666666,
              "#ed7953"
             ],
             [
              0.7777777777777778,
              "#fb9f3a"
             ],
             [
              0.8888888888888888,
              "#fdca26"
             ],
             [
              1,
              "#f0f921"
             ]
            ],
            "type": "histogram2dcontour"
           }
          ],
          "mesh3d": [
           {
            "colorbar": {
             "outlinewidth": 0,
             "ticks": ""
            },
            "type": "mesh3d"
           }
          ],
          "parcoords": [
           {
            "line": {
             "colorbar": {
              "outlinewidth": 0,
              "ticks": ""
             }
            },
            "type": "parcoords"
           }
          ],
          "pie": [
           {
            "automargin": true,
            "type": "pie"
           }
          ],
          "scatter": [
           {
            "fillpattern": {
             "fillmode": "overlay",
             "size": 10,
             "solidity": 0.2
            },
            "type": "scatter"
           }
          ],
          "scatter3d": [
           {
            "line": {
             "colorbar": {
              "outlinewidth": 0,
              "ticks": ""
             }
            },
            "marker": {
             "colorbar": {
              "outlinewidth": 0,
              "ticks": ""
             }
            },
            "type": "scatter3d"
           }
          ],
          "scattercarpet": [
           {
            "marker": {
             "colorbar": {
              "outlinewidth": 0,
              "ticks": ""
             }
            },
            "type": "scattercarpet"
           }
          ],
          "scattergeo": [
           {
            "marker": {
             "colorbar": {
              "outlinewidth": 0,
              "ticks": ""
             }
            },
            "type": "scattergeo"
           }
          ],
          "scattergl": [
           {
            "marker": {
             "colorbar": {
              "outlinewidth": 0,
              "ticks": ""
             }
            },
            "type": "scattergl"
           }
          ],
          "scattermapbox": [
           {
            "marker": {
             "colorbar": {
              "outlinewidth": 0,
              "ticks": ""
             }
            },
            "type": "scattermapbox"
           }
          ],
          "scatterpolar": [
           {
            "marker": {
             "colorbar": {
              "outlinewidth": 0,
              "ticks": ""
             }
            },
            "type": "scatterpolar"
           }
          ],
          "scatterpolargl": [
           {
            "marker": {
             "colorbar": {
              "outlinewidth": 0,
              "ticks": ""
             }
            },
            "type": "scatterpolargl"
           }
          ],
          "scatterternary": [
           {
            "marker": {
             "colorbar": {
              "outlinewidth": 0,
              "ticks": ""
             }
            },
            "type": "scatterternary"
           }
          ],
          "surface": [
           {
            "colorbar": {
             "outlinewidth": 0,
             "ticks": ""
            },
            "colorscale": [
             [
              0,
              "#0d0887"
             ],
             [
              0.1111111111111111,
              "#46039f"
             ],
             [
              0.2222222222222222,
              "#7201a8"
             ],
             [
              0.3333333333333333,
              "#9c179e"
             ],
             [
              0.4444444444444444,
              "#bd3786"
             ],
             [
              0.5555555555555556,
              "#d8576b"
             ],
             [
              0.6666666666666666,
              "#ed7953"
             ],
             [
              0.7777777777777778,
              "#fb9f3a"
             ],
             [
              0.8888888888888888,
              "#fdca26"
             ],
             [
              1,
              "#f0f921"
             ]
            ],
            "type": "surface"
           }
          ],
          "table": [
           {
            "cells": {
             "fill": {
              "color": "#EBF0F8"
             },
             "line": {
              "color": "white"
             }
            },
            "header": {
             "fill": {
              "color": "#C8D4E3"
             },
             "line": {
              "color": "white"
             }
            },
            "type": "table"
           }
          ]
         },
         "layout": {
          "annotationdefaults": {
           "arrowcolor": "#2a3f5f",
           "arrowhead": 0,
           "arrowwidth": 1
          },
          "autotypenumbers": "strict",
          "coloraxis": {
           "colorbar": {
            "outlinewidth": 0,
            "ticks": ""
           }
          },
          "colorscale": {
           "diverging": [
            [
             0,
             "#8e0152"
            ],
            [
             0.1,
             "#c51b7d"
            ],
            [
             0.2,
             "#de77ae"
            ],
            [
             0.3,
             "#f1b6da"
            ],
            [
             0.4,
             "#fde0ef"
            ],
            [
             0.5,
             "#f7f7f7"
            ],
            [
             0.6,
             "#e6f5d0"
            ],
            [
             0.7,
             "#b8e186"
            ],
            [
             0.8,
             "#7fbc41"
            ],
            [
             0.9,
             "#4d9221"
            ],
            [
             1,
             "#276419"
            ]
           ],
           "sequential": [
            [
             0,
             "#0d0887"
            ],
            [
             0.1111111111111111,
             "#46039f"
            ],
            [
             0.2222222222222222,
             "#7201a8"
            ],
            [
             0.3333333333333333,
             "#9c179e"
            ],
            [
             0.4444444444444444,
             "#bd3786"
            ],
            [
             0.5555555555555556,
             "#d8576b"
            ],
            [
             0.6666666666666666,
             "#ed7953"
            ],
            [
             0.7777777777777778,
             "#fb9f3a"
            ],
            [
             0.8888888888888888,
             "#fdca26"
            ],
            [
             1,
             "#f0f921"
            ]
           ],
           "sequentialminus": [
            [
             0,
             "#0d0887"
            ],
            [
             0.1111111111111111,
             "#46039f"
            ],
            [
             0.2222222222222222,
             "#7201a8"
            ],
            [
             0.3333333333333333,
             "#9c179e"
            ],
            [
             0.4444444444444444,
             "#bd3786"
            ],
            [
             0.5555555555555556,
             "#d8576b"
            ],
            [
             0.6666666666666666,
             "#ed7953"
            ],
            [
             0.7777777777777778,
             "#fb9f3a"
            ],
            [
             0.8888888888888888,
             "#fdca26"
            ],
            [
             1,
             "#f0f921"
            ]
           ]
          },
          "colorway": [
           "#636efa",
           "#EF553B",
           "#00cc96",
           "#ab63fa",
           "#FFA15A",
           "#19d3f3",
           "#FF6692",
           "#B6E880",
           "#FF97FF",
           "#FECB52"
          ],
          "font": {
           "color": "#2a3f5f"
          },
          "geo": {
           "bgcolor": "white",
           "lakecolor": "white",
           "landcolor": "#E5ECF6",
           "showlakes": true,
           "showland": true,
           "subunitcolor": "white"
          },
          "hoverlabel": {
           "align": "left"
          },
          "hovermode": "closest",
          "mapbox": {
           "style": "light"
          },
          "paper_bgcolor": "white",
          "plot_bgcolor": "#E5ECF6",
          "polar": {
           "angularaxis": {
            "gridcolor": "white",
            "linecolor": "white",
            "ticks": ""
           },
           "bgcolor": "#E5ECF6",
           "radialaxis": {
            "gridcolor": "white",
            "linecolor": "white",
            "ticks": ""
           }
          },
          "scene": {
           "xaxis": {
            "backgroundcolor": "#E5ECF6",
            "gridcolor": "white",
            "gridwidth": 2,
            "linecolor": "white",
            "showbackground": true,
            "ticks": "",
            "zerolinecolor": "white"
           },
           "yaxis": {
            "backgroundcolor": "#E5ECF6",
            "gridcolor": "white",
            "gridwidth": 2,
            "linecolor": "white",
            "showbackground": true,
            "ticks": "",
            "zerolinecolor": "white"
           },
           "zaxis": {
            "backgroundcolor": "#E5ECF6",
            "gridcolor": "white",
            "gridwidth": 2,
            "linecolor": "white",
            "showbackground": true,
            "ticks": "",
            "zerolinecolor": "white"
           }
          },
          "shapedefaults": {
           "line": {
            "color": "#2a3f5f"
           }
          },
          "ternary": {
           "aaxis": {
            "gridcolor": "white",
            "linecolor": "white",
            "ticks": ""
           },
           "baxis": {
            "gridcolor": "white",
            "linecolor": "white",
            "ticks": ""
           },
           "bgcolor": "#E5ECF6",
           "caxis": {
            "gridcolor": "white",
            "linecolor": "white",
            "ticks": ""
           }
          },
          "title": {
           "x": 0.05
          },
          "xaxis": {
           "automargin": true,
           "gridcolor": "white",
           "linecolor": "white",
           "ticks": "",
           "title": {
            "standoff": 15
           },
           "zerolinecolor": "white",
           "zerolinewidth": 2
          },
          "yaxis": {
           "automargin": true,
           "gridcolor": "white",
           "linecolor": "white",
           "ticks": "",
           "title": {
            "standoff": 15
           },
           "zerolinecolor": "white",
           "zerolinewidth": 2
          }
         }
        },
        "title": {
         "text": "3D Surface Plot with Projections"
        },
        "width": 800
       }
      },
      "text/html": [
       "<div>                            <div id=\"aec3d0ef-2243-46c8-bd4f-f329c7f5378d\" class=\"plotly-graph-div\" style=\"height:800px; width:800px;\"></div>            <script type=\"text/javascript\">                require([\"plotly\"], function(Plotly) {                    window.PLOTLYENV=window.PLOTLYENV || {};                                    if (document.getElementById(\"aec3d0ef-2243-46c8-bd4f-f329c7f5378d\")) {                    Plotly.newPlot(                        \"aec3d0ef-2243-46c8-bd4f-f329c7f5378d\",                        [{\"contours\":{\"z\":{\"highlightcolor\":\"limegreen\",\"project\":{\"z\":true},\"show\":true,\"usecolormap\":true}},\"x\":[[-1.0,-0.8,-0.6,-0.3999999999999999,-0.19999999999999996,0.0,0.20000000000000018,0.40000000000000013,0.6000000000000001,0.8,1.0],[-1.0,-0.8,-0.6,-0.3999999999999999,-0.19999999999999996,0.0,0.20000000000000018,0.40000000000000013,0.6000000000000001,0.8,1.0],[-1.0,-0.8,-0.6,-0.3999999999999999,-0.19999999999999996,0.0,0.20000000000000018,0.40000000000000013,0.6000000000000001,0.8,1.0],[-1.0,-0.8,-0.6,-0.3999999999999999,-0.19999999999999996,0.0,0.20000000000000018,0.40000000000000013,0.6000000000000001,0.8,1.0],[-1.0,-0.8,-0.6,-0.3999999999999999,-0.19999999999999996,0.0,0.20000000000000018,0.40000000000000013,0.6000000000000001,0.8,1.0],[-1.0,-0.8,-0.6,-0.3999999999999999,-0.19999999999999996,0.0,0.20000000000000018,0.40000000000000013,0.6000000000000001,0.8,1.0],[-1.0,-0.8,-0.6,-0.3999999999999999,-0.19999999999999996,0.0,0.20000000000000018,0.40000000000000013,0.6000000000000001,0.8,1.0],[-1.0,-0.8,-0.6,-0.3999999999999999,-0.19999999999999996,0.0,0.20000000000000018,0.40000000000000013,0.6000000000000001,0.8,1.0],[-1.0,-0.8,-0.6,-0.3999999999999999,-0.19999999999999996,0.0,0.20000000000000018,0.40000000000000013,0.6000000000000001,0.8,1.0],[-1.0,-0.8,-0.6,-0.3999999999999999,-0.19999999999999996,0.0,0.20000000000000018,0.40000000000000013,0.6000000000000001,0.8,1.0],[-1.0,-0.8,-0.6,-0.3999999999999999,-0.19999999999999996,0.0,0.20000000000000018,0.40000000000000013,0.6000000000000001,0.8,1.0]],\"y\":[[-1.0,-1.0,-1.0,-1.0,-1.0,-1.0,-1.0,-1.0,-1.0,-1.0,-1.0],[-0.8,-0.8,-0.8,-0.8,-0.8,-0.8,-0.8,-0.8,-0.8,-0.8,-0.8],[-0.6,-0.6,-0.6,-0.6,-0.6,-0.6,-0.6,-0.6,-0.6,-0.6,-0.6],[-0.3999999999999999,-0.3999999999999999,-0.3999999999999999,-0.3999999999999999,-0.3999999999999999,-0.3999999999999999,-0.3999999999999999,-0.3999999999999999,-0.3999999999999999,-0.3999999999999999,-0.3999999999999999],[-0.19999999999999996,-0.19999999999999996,-0.19999999999999996,-0.19999999999999996,-0.19999999999999996,-0.19999999999999996,-0.19999999999999996,-0.19999999999999996,-0.19999999999999996,-0.19999999999999996,-0.19999999999999996],[0.0,0.0,0.0,0.0,0.0,0.0,0.0,0.0,0.0,0.0,0.0],[0.20000000000000018,0.20000000000000018,0.20000000000000018,0.20000000000000018,0.20000000000000018,0.20000000000000018,0.20000000000000018,0.20000000000000018,0.20000000000000018,0.20000000000000018,0.20000000000000018],[0.40000000000000013,0.40000000000000013,0.40000000000000013,0.40000000000000013,0.40000000000000013,0.40000000000000013,0.40000000000000013,0.40000000000000013,0.40000000000000013,0.40000000000000013,0.40000000000000013],[0.6000000000000001,0.6000000000000001,0.6000000000000001,0.6000000000000001,0.6000000000000001,0.6000000000000001,0.6000000000000001,0.6000000000000001,0.6000000000000001,0.6000000000000001,0.6000000000000001],[0.8,0.8,0.8,0.8,0.8,0.8,0.8,0.8,0.8,0.8,0.8],[1.0,1.0,1.0,1.0,1.0,1.0,1.0,1.0,1.0,1.0,1.0]],\"z\":[[0.46166666666666645,0.524933333333333,0.5833999999999997,0.6370666666666663,0.6859333333333331,0.7299999999999998,0.7692666666666663,0.803733333333333,0.8333999999999997,0.8582666666666665,0.8783333333333332],[0.2934666666666666,0.35173333333333323,0.4051999999999999,0.45386666666666653,0.49773333333333314,0.5367999999999998,0.5710666666666665,0.6005333333333331,0.6252,0.6450666666666666,0.6601333333333333],[0.15286666666666665,0.20613333333333328,0.25459999999999994,0.29826666666666657,0.3371333333333333,0.37119999999999986,0.40046666666666664,0.4249333333333333,0.4446,0.4594666666666667,0.46953333333333336],[0.039866666666666675,0.08813333333333329,0.13159999999999994,0.1702666666666666,0.20413333333333328,0.2331999999999999,0.2574666666666666,0.2769333333333333,0.29159999999999997,0.30146666666666666,0.30653333333333344],[-0.045533333333333245,-0.0022666666666666304,0.036200000000000024,0.06986666666666669,0.09873333333333334,0.1228,0.1420666666666667,0.15653333333333339,0.1662000000000001,0.17106666666666678,0.17113333333333353],[-0.10333333333333321,-0.06506666666666658,-0.03159999999999993,-0.002933333333333267,0.020933333333333394,0.04000000000000006,0.054266666666666755,0.06373333333333345,0.06840000000000016,0.06826666666666686,0.06333333333333359],[-0.13353333333333325,-0.10026666666666662,-0.07179999999999995,-0.0481333333333333,-0.029266666666666635,-0.01519999999999997,-0.005933333333333287,-0.0014666666666665988,-0.0017999999999998954,-0.006933333333333187,-0.016866666666666457],[-0.13613333333333325,-0.10786666666666661,-0.08439999999999995,-0.06573333333333328,-0.05186666666666664,-0.042799999999999956,-0.038533333333333274,-0.039066666666666576,-0.04439999999999986,-0.05453333333333316,-0.06946666666666643],[-0.11113333333333324,-0.08786666666666663,-0.0694,-0.055733333333333315,-0.046866666666666654,-0.04279999999999999,-0.0435333333333333,-0.049066666666666606,-0.05939999999999988,-0.07453333333333319,-0.09446666666666646],[-0.05853333333333341,-0.04026666666666681,-0.0268000000000001,-0.018133333333333446,-0.014266666666666789,-0.015200000000000102,-0.020933333333333415,-0.031466666666666726,-0.046800000000000036,-0.06693333333333326,-0.09186666666666657],[0.0216666666666665,0.03493333333333315,0.04339999999999983,0.04706666666666648,0.045933333333333104,0.03999999999999987,0.029266666666666497,0.013733333333333209,-0.006599999999999995,-0.031733333333333336,-0.06166666666666659]],\"type\":\"surface\"}],                        {\"template\":{\"data\":{\"histogram2dcontour\":[{\"type\":\"histogram2dcontour\",\"colorbar\":{\"outlinewidth\":0,\"ticks\":\"\"},\"colorscale\":[[0.0,\"#0d0887\"],[0.1111111111111111,\"#46039f\"],[0.2222222222222222,\"#7201a8\"],[0.3333333333333333,\"#9c179e\"],[0.4444444444444444,\"#bd3786\"],[0.5555555555555556,\"#d8576b\"],[0.6666666666666666,\"#ed7953\"],[0.7777777777777778,\"#fb9f3a\"],[0.8888888888888888,\"#fdca26\"],[1.0,\"#f0f921\"]]}],\"choropleth\":[{\"type\":\"choropleth\",\"colorbar\":{\"outlinewidth\":0,\"ticks\":\"\"}}],\"histogram2d\":[{\"type\":\"histogram2d\",\"colorbar\":{\"outlinewidth\":0,\"ticks\":\"\"},\"colorscale\":[[0.0,\"#0d0887\"],[0.1111111111111111,\"#46039f\"],[0.2222222222222222,\"#7201a8\"],[0.3333333333333333,\"#9c179e\"],[0.4444444444444444,\"#bd3786\"],[0.5555555555555556,\"#d8576b\"],[0.6666666666666666,\"#ed7953\"],[0.7777777777777778,\"#fb9f3a\"],[0.8888888888888888,\"#fdca26\"],[1.0,\"#f0f921\"]]}],\"heatmap\":[{\"type\":\"heatmap\",\"colorbar\":{\"outlinewidth\":0,\"ticks\":\"\"},\"colorscale\":[[0.0,\"#0d0887\"],[0.1111111111111111,\"#46039f\"],[0.2222222222222222,\"#7201a8\"],[0.3333333333333333,\"#9c179e\"],[0.4444444444444444,\"#bd3786\"],[0.5555555555555556,\"#d8576b\"],[0.6666666666666666,\"#ed7953\"],[0.7777777777777778,\"#fb9f3a\"],[0.8888888888888888,\"#fdca26\"],[1.0,\"#f0f921\"]]}],\"heatmapgl\":[{\"type\":\"heatmapgl\",\"colorbar\":{\"outlinewidth\":0,\"ticks\":\"\"},\"colorscale\":[[0.0,\"#0d0887\"],[0.1111111111111111,\"#46039f\"],[0.2222222222222222,\"#7201a8\"],[0.3333333333333333,\"#9c179e\"],[0.4444444444444444,\"#bd3786\"],[0.5555555555555556,\"#d8576b\"],[0.6666666666666666,\"#ed7953\"],[0.7777777777777778,\"#fb9f3a\"],[0.8888888888888888,\"#fdca26\"],[1.0,\"#f0f921\"]]}],\"contourcarpet\":[{\"type\":\"contourcarpet\",\"colorbar\":{\"outlinewidth\":0,\"ticks\":\"\"}}],\"contour\":[{\"type\":\"contour\",\"colorbar\":{\"outlinewidth\":0,\"ticks\":\"\"},\"colorscale\":[[0.0,\"#0d0887\"],[0.1111111111111111,\"#46039f\"],[0.2222222222222222,\"#7201a8\"],[0.3333333333333333,\"#9c179e\"],[0.4444444444444444,\"#bd3786\"],[0.5555555555555556,\"#d8576b\"],[0.6666666666666666,\"#ed7953\"],[0.7777777777777778,\"#fb9f3a\"],[0.8888888888888888,\"#fdca26\"],[1.0,\"#f0f921\"]]}],\"surface\":[{\"type\":\"surface\",\"colorbar\":{\"outlinewidth\":0,\"ticks\":\"\"},\"colorscale\":[[0.0,\"#0d0887\"],[0.1111111111111111,\"#46039f\"],[0.2222222222222222,\"#7201a8\"],[0.3333333333333333,\"#9c179e\"],[0.4444444444444444,\"#bd3786\"],[0.5555555555555556,\"#d8576b\"],[0.6666666666666666,\"#ed7953\"],[0.7777777777777778,\"#fb9f3a\"],[0.8888888888888888,\"#fdca26\"],[1.0,\"#f0f921\"]]}],\"mesh3d\":[{\"type\":\"mesh3d\",\"colorbar\":{\"outlinewidth\":0,\"ticks\":\"\"}}],\"scatter\":[{\"fillpattern\":{\"fillmode\":\"overlay\",\"size\":10,\"solidity\":0.2},\"type\":\"scatter\"}],\"parcoords\":[{\"type\":\"parcoords\",\"line\":{\"colorbar\":{\"outlinewidth\":0,\"ticks\":\"\"}}}],\"scatterpolargl\":[{\"type\":\"scatterpolargl\",\"marker\":{\"colorbar\":{\"outlinewidth\":0,\"ticks\":\"\"}}}],\"bar\":[{\"error_x\":{\"color\":\"#2a3f5f\"},\"error_y\":{\"color\":\"#2a3f5f\"},\"marker\":{\"line\":{\"color\":\"#E5ECF6\",\"width\":0.5},\"pattern\":{\"fillmode\":\"overlay\",\"size\":10,\"solidity\":0.2}},\"type\":\"bar\"}],\"scattergeo\":[{\"type\":\"scattergeo\",\"marker\":{\"colorbar\":{\"outlinewidth\":0,\"ticks\":\"\"}}}],\"scatterpolar\":[{\"type\":\"scatterpolar\",\"marker\":{\"colorbar\":{\"outlinewidth\":0,\"ticks\":\"\"}}}],\"histogram\":[{\"marker\":{\"pattern\":{\"fillmode\":\"overlay\",\"size\":10,\"solidity\":0.2}},\"type\":\"histogram\"}],\"scattergl\":[{\"type\":\"scattergl\",\"marker\":{\"colorbar\":{\"outlinewidth\":0,\"ticks\":\"\"}}}],\"scatter3d\":[{\"type\":\"scatter3d\",\"line\":{\"colorbar\":{\"outlinewidth\":0,\"ticks\":\"\"}},\"marker\":{\"colorbar\":{\"outlinewidth\":0,\"ticks\":\"\"}}}],\"scattermapbox\":[{\"type\":\"scattermapbox\",\"marker\":{\"colorbar\":{\"outlinewidth\":0,\"ticks\":\"\"}}}],\"scatterternary\":[{\"type\":\"scatterternary\",\"marker\":{\"colorbar\":{\"outlinewidth\":0,\"ticks\":\"\"}}}],\"scattercarpet\":[{\"type\":\"scattercarpet\",\"marker\":{\"colorbar\":{\"outlinewidth\":0,\"ticks\":\"\"}}}],\"carpet\":[{\"aaxis\":{\"endlinecolor\":\"#2a3f5f\",\"gridcolor\":\"white\",\"linecolor\":\"white\",\"minorgridcolor\":\"white\",\"startlinecolor\":\"#2a3f5f\"},\"baxis\":{\"endlinecolor\":\"#2a3f5f\",\"gridcolor\":\"white\",\"linecolor\":\"white\",\"minorgridcolor\":\"white\",\"startlinecolor\":\"#2a3f5f\"},\"type\":\"carpet\"}],\"table\":[{\"cells\":{\"fill\":{\"color\":\"#EBF0F8\"},\"line\":{\"color\":\"white\"}},\"header\":{\"fill\":{\"color\":\"#C8D4E3\"},\"line\":{\"color\":\"white\"}},\"type\":\"table\"}],\"barpolar\":[{\"marker\":{\"line\":{\"color\":\"#E5ECF6\",\"width\":0.5},\"pattern\":{\"fillmode\":\"overlay\",\"size\":10,\"solidity\":0.2}},\"type\":\"barpolar\"}],\"pie\":[{\"automargin\":true,\"type\":\"pie\"}]},\"layout\":{\"autotypenumbers\":\"strict\",\"colorway\":[\"#636efa\",\"#EF553B\",\"#00cc96\",\"#ab63fa\",\"#FFA15A\",\"#19d3f3\",\"#FF6692\",\"#B6E880\",\"#FF97FF\",\"#FECB52\"],\"font\":{\"color\":\"#2a3f5f\"},\"hovermode\":\"closest\",\"hoverlabel\":{\"align\":\"left\"},\"paper_bgcolor\":\"white\",\"plot_bgcolor\":\"#E5ECF6\",\"polar\":{\"bgcolor\":\"#E5ECF6\",\"angularaxis\":{\"gridcolor\":\"white\",\"linecolor\":\"white\",\"ticks\":\"\"},\"radialaxis\":{\"gridcolor\":\"white\",\"linecolor\":\"white\",\"ticks\":\"\"}},\"ternary\":{\"bgcolor\":\"#E5ECF6\",\"aaxis\":{\"gridcolor\":\"white\",\"linecolor\":\"white\",\"ticks\":\"\"},\"baxis\":{\"gridcolor\":\"white\",\"linecolor\":\"white\",\"ticks\":\"\"},\"caxis\":{\"gridcolor\":\"white\",\"linecolor\":\"white\",\"ticks\":\"\"}},\"coloraxis\":{\"colorbar\":{\"outlinewidth\":0,\"ticks\":\"\"}},\"colorscale\":{\"sequential\":[[0.0,\"#0d0887\"],[0.1111111111111111,\"#46039f\"],[0.2222222222222222,\"#7201a8\"],[0.3333333333333333,\"#9c179e\"],[0.4444444444444444,\"#bd3786\"],[0.5555555555555556,\"#d8576b\"],[0.6666666666666666,\"#ed7953\"],[0.7777777777777778,\"#fb9f3a\"],[0.8888888888888888,\"#fdca26\"],[1.0,\"#f0f921\"]],\"sequentialminus\":[[0.0,\"#0d0887\"],[0.1111111111111111,\"#46039f\"],[0.2222222222222222,\"#7201a8\"],[0.3333333333333333,\"#9c179e\"],[0.4444444444444444,\"#bd3786\"],[0.5555555555555556,\"#d8576b\"],[0.6666666666666666,\"#ed7953\"],[0.7777777777777778,\"#fb9f3a\"],[0.8888888888888888,\"#fdca26\"],[1.0,\"#f0f921\"]],\"diverging\":[[0,\"#8e0152\"],[0.1,\"#c51b7d\"],[0.2,\"#de77ae\"],[0.3,\"#f1b6da\"],[0.4,\"#fde0ef\"],[0.5,\"#f7f7f7\"],[0.6,\"#e6f5d0\"],[0.7,\"#b8e186\"],[0.8,\"#7fbc41\"],[0.9,\"#4d9221\"],[1,\"#276419\"]]},\"xaxis\":{\"gridcolor\":\"white\",\"linecolor\":\"white\",\"ticks\":\"\",\"title\":{\"standoff\":15},\"zerolinecolor\":\"white\",\"automargin\":true,\"zerolinewidth\":2},\"yaxis\":{\"gridcolor\":\"white\",\"linecolor\":\"white\",\"ticks\":\"\",\"title\":{\"standoff\":15},\"zerolinecolor\":\"white\",\"automargin\":true,\"zerolinewidth\":2},\"scene\":{\"xaxis\":{\"backgroundcolor\":\"#E5ECF6\",\"gridcolor\":\"white\",\"linecolor\":\"white\",\"showbackground\":true,\"ticks\":\"\",\"zerolinecolor\":\"white\",\"gridwidth\":2},\"yaxis\":{\"backgroundcolor\":\"#E5ECF6\",\"gridcolor\":\"white\",\"linecolor\":\"white\",\"showbackground\":true,\"ticks\":\"\",\"zerolinecolor\":\"white\",\"gridwidth\":2},\"zaxis\":{\"backgroundcolor\":\"#E5ECF6\",\"gridcolor\":\"white\",\"linecolor\":\"white\",\"showbackground\":true,\"ticks\":\"\",\"zerolinecolor\":\"white\",\"gridwidth\":2}},\"shapedefaults\":{\"line\":{\"color\":\"#2a3f5f\"}},\"annotationdefaults\":{\"arrowcolor\":\"#2a3f5f\",\"arrowhead\":0,\"arrowwidth\":1},\"geo\":{\"bgcolor\":\"white\",\"landcolor\":\"#E5ECF6\",\"subunitcolor\":\"white\",\"showland\":true,\"showlakes\":true,\"lakecolor\":\"white\"},\"title\":{\"x\":0.05},\"mapbox\":{\"style\":\"light\"}}},\"margin\":{\"l\":65,\"r\":50,\"b\":65,\"t\":90},\"title\":{\"text\":\"3D Surface Plot with Projections\"},\"scene\":{\"xaxis\":{\"title\":{\"text\":\"Factor_1\"}},\"yaxis\":{\"title\":{\"text\":\"Factor_1\"}},\"zaxis\":{\"title\":{\"text\":\"Intensity\"}}},\"autosize\":false,\"width\":800,\"height\":800},                        {\"responsive\": true}                    ).then(function(){\n",
       "                            \n",
       "var gd = document.getElementById('aec3d0ef-2243-46c8-bd4f-f329c7f5378d');\n",
       "var x = new MutationObserver(function (mutations, observer) {{\n",
       "        var display = window.getComputedStyle(gd).display;\n",
       "        if (!display || display === 'none') {{\n",
       "            console.log([gd, 'removed!']);\n",
       "            Plotly.purge(gd);\n",
       "            observer.disconnect();\n",
       "        }}\n",
       "}});\n",
       "\n",
       "// Listen for the removal of the full notebook cells\n",
       "var notebookContainer = gd.closest('#notebook-container');\n",
       "if (notebookContainer) {{\n",
       "    x.observe(notebookContainer, {childList: true});\n",
       "}}\n",
       "\n",
       "// Listen for the clearing of the current output cell\n",
       "var outputEl = gd.closest('.output');\n",
       "if (outputEl) {{\n",
       "    x.observe(outputEl, {childList: true});\n",
       "}}\n",
       "\n",
       "                        })                };                });            </script>        </div>"
      ]
     },
     "metadata": {},
     "output_type": "display_data"
    }
   ],
   "source": [
    "import plotly.graph_objects as go\n",
    "import numpy as np\n",
    "import pandas as pd\n",
    "\n",
    "# Assuming Resp_surf2 is your DataFrame\n",
    "\n",
    "# Create coordinate arrays for the x and y values\n",
    "X, Y = np.meshgrid(Resp_surf_ffact2.columns.astype(float), Resp_surf_ffact2.index.astype(float))\n",
    "\n",
    "# Get the z values from the DataFrame\n",
    "Z = Resp_surf_ffact2.values\n",
    "\n",
    "# Create a Plotly 3D surface plot\n",
    "fig = go.Figure(data=[go.Surface(z=Z, x=X, y=Y, contours_z=dict(\n",
    "    show=True, usecolormap=True, highlightcolor=\"limegreen\", project_z=True))])\n",
    "\n",
    "# Update the layout\n",
    "fig.update_layout(\n",
    "    title='3D Surface Plot with Projections',\n",
    "    scene=dict(\n",
    "        xaxis_title='Factor_1',\n",
    "        yaxis_title='Factor_1',\n",
    "        zaxis_title='Intensity'\n",
    "    ),\n",
    "    autosize=False,\n",
    "    width=800,\n",
    "    height=800,\n",
    "    margin=dict(l=65, r=50, b=65, t=90)\n",
    ")\n",
    "\n",
    "# Show the plot\n",
    "fig.show()\n"
   ]
  }
 ],
 "metadata": {
  "kernelspec": {
   "display_name": "Python 3 (ipykernel)",
   "language": "python",
   "name": "python3"
  },
  "language_info": {
   "codemirror_mode": {
    "name": "ipython",
    "version": 3
   },
   "file_extension": ".py",
   "mimetype": "text/x-python",
   "name": "python",
   "nbconvert_exporter": "python",
   "pygments_lexer": "ipython3",
   "version": "3.11.6"
  }
 },
 "nbformat": 4,
 "nbformat_minor": 5
}
